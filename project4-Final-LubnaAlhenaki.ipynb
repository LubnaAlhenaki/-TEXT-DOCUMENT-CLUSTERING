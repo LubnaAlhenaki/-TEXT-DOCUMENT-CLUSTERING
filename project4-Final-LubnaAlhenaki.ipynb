{
 "cells": [
  {
   "cell_type": "markdown",
   "metadata": {},
   "source": [
    " # PROJECT TO APPLY TEXT DOCUMENTS CLUSTRING"
   ]
  },
  {
   "cell_type": "markdown",
   "metadata": {},
   "source": [
    "#### Meties Bootcamp ,  Project 4 - Lubna Alhenaki"
   ]
  },
  {
   "cell_type": "markdown",
   "metadata": {},
   "source": [
    "![Alt Text](https://media.giphy.com/media/3UefM0f85ubQs/giphy.gif)"
   ]
  },
  {
   "cell_type": "markdown",
   "metadata": {},
   "source": [
    "## Introduction"
   ]
  },
  {
   "cell_type": "markdown",
   "metadata": {},
   "source": [
    "In recent years, the volume of information in digital form has increased tremendously owing to the increased popularity of the World Wide Web. As a result, the use of techniques for extracting useful information from large collections of data, and particularly documents, has become more necessary and challenging.\n",
    "\n",
    "Text clustering is such a technique; it consists in dividing a set of text documents into clusters (groups), so that documents within the same cluster are closely related, whereas documents in different clusters are as different as possible.\n",
    "\n",
    "In this project, the K-means will be use to perform clustering process . To evaluate the effectiveness, the clustring algorithm will be test on a well-known text document dataset: the“20Newsgroup” dataset from the University of California Irvine Machine Learning\n",
    "Repository."
   ]
  },
  {
   "cell_type": "markdown",
   "metadata": {},
   "source": [
    " ## Text Documents Dataset"
   ]
  },
  {
   "cell_type": "markdown",
   "metadata": {},
   "source": [
    "It contains approximately 20,000 newsgroup articles, divided across 20 different newsgroup categories, such as rec.autos, rec.motorcycles, rec.sport.baseball, and rec.sport.hockey (sports category). For more details please visit http://qwone.com/~jason/20Newsgroups/"
   ]
  },
  {
   "cell_type": "code",
   "execution_count": 40,
   "metadata": {},
   "outputs": [],
   "source": [
    "import umap\n",
    "import matplotlib.pyplot as plt\n",
    "import string \n",
    "import re \n",
    "import pandas as pd\n",
    "import numpy as np\n",
    "\n",
    "\n",
    "\n",
    "from sklearn.datasets import fetch_20newsgroups #load dataset\n",
    "from nltk.tokenize import word_tokenize #pre-processing (toknization)\n",
    "from nltk.corpus import stopwords #pre-processing (remove stopwords)\n",
    "from nltk.stem import PorterStemmer\n",
    "from sklearn.feature_extraction.text import TfidfVectorizer\n",
    "from sklearn.decomposition import TruncatedSVD,NMF\n",
    "from sklearn.cluster import KMeans \n",
    "from sklearn.preprocessing import normalize\n",
    "from wordcloud import WordCloud\n",
    "from itertools import cycle, islice\n",
    "from yellowbrick.text import UMAPVisualizer\n",
    "\n",
    "from yellowbrick.style import set_palette # gives you more colors to work with \n",
    "\n",
    "set_palette('paired')"
   ]
  },
  {
   "cell_type": "code",
   "execution_count": 2,
   "metadata": {},
   "outputs": [],
   "source": [
    " #!pip install yellowbrick"
   ]
  },
  {
   "cell_type": "markdown",
   "metadata": {},
   "source": [
    "### 1- Load the dataset of 20Newsgroup posts"
   ]
  },
  {
   "cell_type": "markdown",
   "metadata": {},
   "source": [
    "\n",
    "**Data Inspection**\n",
    "* What data type is data?\n",
    "* How many data documents does dataset contain?\n",
    "* Inspect the first data point, what does it look like?\n",
    "* How many data documents of each category does dataset contain?\n",
    "\n"
   ]
  },
  {
   "cell_type": "code",
   "execution_count": 3,
   "metadata": {},
   "outputs": [],
   "source": [
    "data=fetch_20newsgroups(subset='all',shuffle=True,remove=('headers', 'footers', 'quotes'))"
   ]
  },
  {
   "cell_type": "code",
   "execution_count": 4,
   "metadata": {},
   "outputs": [],
   "source": [
    "documents=data.data"
   ]
  },
  {
   "cell_type": "code",
   "execution_count": 5,
   "metadata": {},
   "outputs": [],
   "source": [
    "categories=data.target_names"
   ]
  },
  {
   "cell_type": "code",
   "execution_count": 6,
   "metadata": {},
   "outputs": [],
   "source": [
    "target=data.target"
   ]
  },
  {
   "cell_type": "code",
   "execution_count": 7,
   "metadata": {},
   "outputs": [
    {
     "data": {
      "text/plain": [
       "(18846,)"
      ]
     },
     "execution_count": 7,
     "metadata": {},
     "output_type": "execute_result"
    }
   ],
   "source": [
    "target.shape"
   ]
  },
  {
   "cell_type": "code",
   "execution_count": 8,
   "metadata": {},
   "outputs": [
    {
     "data": {
      "text/plain": [
       "['alt.atheism',\n",
       " 'comp.graphics',\n",
       " 'comp.os.ms-windows.misc',\n",
       " 'comp.sys.ibm.pc.hardware',\n",
       " 'comp.sys.mac.hardware',\n",
       " 'comp.windows.x',\n",
       " 'misc.forsale',\n",
       " 'rec.autos',\n",
       " 'rec.motorcycles',\n",
       " 'rec.sport.baseball',\n",
       " 'rec.sport.hockey',\n",
       " 'sci.crypt',\n",
       " 'sci.electronics',\n",
       " 'sci.med',\n",
       " 'sci.space',\n",
       " 'soc.religion.christian',\n",
       " 'talk.politics.guns',\n",
       " 'talk.politics.mideast',\n",
       " 'talk.politics.misc',\n",
       " 'talk.religion.misc']"
      ]
     },
     "execution_count": 8,
     "metadata": {},
     "output_type": "execute_result"
    }
   ],
   "source": [
    "categories"
   ]
  },
  {
   "cell_type": "code",
   "execution_count": 9,
   "metadata": {},
   "outputs": [
    {
     "data": {
      "text/plain": [
       "list"
      ]
     },
     "execution_count": 9,
     "metadata": {},
     "output_type": "execute_result"
    }
   ],
   "source": [
    "type(documents)"
   ]
  },
  {
   "cell_type": "code",
   "execution_count": 10,
   "metadata": {},
   "outputs": [
    {
     "data": {
      "text/plain": [
       "18846"
      ]
     },
     "execution_count": 10,
     "metadata": {},
     "output_type": "execute_result"
    }
   ],
   "source": [
    "len(documents)"
   ]
  },
  {
   "cell_type": "code",
   "execution_count": 11,
   "metadata": {},
   "outputs": [
    {
     "data": {
      "text/plain": [
       "\"\\n\\nI am sure some bashers of Pens fans are pretty confused about the lack\\nof any kind of posts about the recent Pens massacre of the Devils. Actually,\\nI am  bit puzzled too and a bit relieved. However, I am going to put an end\\nto non-PIttsburghers' relief with a bit of praise for the Pens. Man, they\\nare killing those Devils worse than I thought. Jagr just showed you why\\nhe is much better than his regular season stats. He is also a lot\\nfo fun to watch in the playoffs. Bowman should let JAgr have a lot of\\nfun in the next couple of games since the Pens are going to beat the pulp out of Jersey anyway. I was very disappointed not to see the Islanders lose the final\\nregular season game.          PENS RULE!!!\\n\\n\""
      ]
     },
     "execution_count": 11,
     "metadata": {},
     "output_type": "execute_result"
    }
   ],
   "source": [
    "documents[0]"
   ]
  },
  {
   "cell_type": "code",
   "execution_count": null,
   "metadata": {},
   "outputs": [],
   "source": [
    "\n",
    "#my_colors = list(islice(cycle(['b', 'r', 'g', 'y', 'k']), None, len(df)))\n",
    "df = pd.DataFrame(data=data.target, columns=['category'])\n",
    "sum = df['category'].groupby(df['category']).count()\n",
    "sum.index = categories\n",
    "sum.plot(kind = 'bar',figsize=(10, 5),color=np.random.rand(len(df),4))\n",
    "plt.title('Distribution of Documents in Each Category')\n",
    "plt.xlabel('Category Name')\n",
    "plt.ylabel('Number of Documents')\n",
    "plt.xticks(rotation=50)\n",
    "plt.show()"
   ]
  },
  {
   "cell_type": "code",
   "execution_count": 13,
   "metadata": {},
   "outputs": [
    {
     "data": {
      "text/plain": [
       "alt.atheism                 799\n",
       "comp.graphics               973\n",
       "comp.os.ms-windows.misc     985\n",
       "comp.sys.ibm.pc.hardware    982\n",
       "comp.sys.mac.hardware       963\n",
       "comp.windows.x              988\n",
       "misc.forsale                975\n",
       "rec.autos                   990\n",
       "rec.motorcycles             996\n",
       "rec.sport.baseball          994\n",
       "rec.sport.hockey            999\n",
       "sci.crypt                   991\n",
       "sci.electronics             984\n",
       "sci.med                     990\n",
       "sci.space                   987\n",
       "soc.religion.christian      997\n",
       "talk.politics.guns          910\n",
       "talk.politics.mideast       940\n",
       "talk.politics.misc          775\n",
       "talk.religion.misc          628\n",
       "Name: category, dtype: int64"
      ]
     },
     "execution_count": 13,
     "metadata": {},
     "output_type": "execute_result"
    }
   ],
   "source": [
    "sum"
   ]
  },
  {
   "cell_type": "markdown",
   "metadata": {},
   "source": [
    "### 2- Pre-processing Steps"
   ]
  },
  {
   "cell_type": "markdown",
   "metadata": {},
   "source": [
    "**Data cleaning steps on all documents:**\n",
    "* Make all text lower case\n",
    "* Remove punctuation\n",
    "* Remove numerical values\n",
    "* Remove special character \n",
    "* Tokenize text\n",
    "* Remove stop words\n",
    "\n",
    "**More data cleaning steps after tokenization:**\n",
    "* Porter Stemming "
   ]
  },
  {
   "cell_type": "markdown",
   "metadata": {},
   "source": [
    "**2.1 Setup**"
   ]
  },
  {
   "cell_type": "code",
   "execution_count": 14,
   "metadata": {},
   "outputs": [],
   "source": [
    "def preprocessing(docs):\n",
    "    docs_clean=[]\n",
    "    \n",
    "    for i in range(0,len(docs)):\n",
    "        docs[i]=docs[i].lower() #remove capital letters\n",
    "        docs[i]= re.sub('\\w*\\d\\w*', ' ', docs[i]) #remove numbers\n",
    "        docs[i]= re.sub('[%s]' % re.escape(string.punctuation), ' ', docs[i])  # remove punctuation\n",
    "        #print(docs[i])\n",
    "        docs_clean.append(word_tokenize(docs[i])) #word tokenization\\\n",
    "\n",
    "    return  docs_clean"
   ]
  },
  {
   "cell_type": "code",
   "execution_count": 15,
   "metadata": {},
   "outputs": [],
   "source": [
    "def stem(words):\n",
    "    porterstemmer=PorterStemmer()\n",
    "    return ' '.join([porterstemmer.stem(word) for word in words])"
   ]
  },
  {
   "cell_type": "code",
   "execution_count": 16,
   "metadata": {},
   "outputs": [],
   "source": [
    "stopword=stopwords.words('english')"
   ]
  },
  {
   "cell_type": "markdown",
   "metadata": {},
   "source": [
    "**2.2 Execute**"
   ]
  },
  {
   "cell_type": "code",
   "execution_count": 17,
   "metadata": {},
   "outputs": [],
   "source": [
    "clean_documents=preprocessing(documents)"
   ]
  },
  {
   "cell_type": "code",
   "execution_count": 18,
   "metadata": {},
   "outputs": [],
   "source": [
    "final_cleans=[ stem(clean_doc) for clean_doc in clean_documents]"
   ]
  },
  {
   "cell_type": "code",
   "execution_count": 19,
   "metadata": {
    "scrolled": false
   },
   "outputs": [
    {
     "data": {
      "text/plain": [
       "'i am sure some basher of pen fan are pretti confus about the lack of ani kind of post about the recent pen massacr of the devil actual i am bit puzzl too and a bit reliev howev i am go to put an end to non pittsburgh relief with a bit of prais for the pen man they are kill those devil wors than i thought jagr just show you whi he is much better than hi regular season stat he is also a lot fo fun to watch in the playoff bowman should let jagr have a lot of fun in the next coupl of game sinc the pen are go to beat the pulp out of jersey anyway i wa veri disappoint not to see the island lose the final regular season game pen rule'"
      ]
     },
     "execution_count": 19,
     "metadata": {},
     "output_type": "execute_result"
    }
   ],
   "source": [
    "final_cleans[0]"
   ]
  },
  {
   "cell_type": "markdown",
   "metadata": {},
   "source": [
    "### 3-Extract Feature Vectors That Is Suitable For Clustering purpose ( Vectorize)"
   ]
  },
  {
   "cell_type": "markdown",
   "metadata": {},
   "source": [
    "Why I don't use TF (CountVectorizer)? \n",
    "    Because counting the number of words in each document will give more weightage to longer documents than shorter documents. To avoid this, I use TF-IDF"
   ]
  },
  {
   "cell_type": "code",
   "execution_count": 20,
   "metadata": {},
   "outputs": [],
   "source": [
    "\n",
    "\n",
    "tfidf_vector=TfidfVectorizer(stop_words=stopword, lowercase=False,min_df=500)\n",
    "# when I used  integer value for min_df parameters it will choose the cutoff on an absolute value that means\n",
    "# ,for example, the word”Lubna” appears at least 20 times in all documents\n",
    "#scaler = StandardScaler(with_mean=False)\n",
    "#scaler=preprocessing.MaxAbsScaler()\n",
    "\n",
    "\n",
    "\n",
    "# When I used float it means min_df=0.1, for example, the word “Lubna” most be at least appears at 10% of whole\n",
    "# documents\n",
    "\n",
    "\n",
    "tfidf_docs=tfidf_vector.fit_transform(final_cleans)\n",
    "normlize_df=normalize(tfidf_docs).toarray()\n",
    "\n",
    "#scaled_df = scaler.fit_transform(tfidf_docs).toarray() \n"
   ]
  },
  {
   "cell_type": "code",
   "execution_count": 21,
   "metadata": {},
   "outputs": [
    {
     "data": {
      "text/plain": [
       "numpy.ndarray"
      ]
     },
     "execution_count": 21,
     "metadata": {},
     "output_type": "execute_result"
    }
   ],
   "source": [
    "type(normlize_df)"
   ]
  },
  {
   "cell_type": "code",
   "execution_count": 22,
   "metadata": {},
   "outputs": [
    {
     "data": {
      "text/html": [
       "<div>\n",
       "<style scoped>\n",
       "    .dataframe tbody tr th:only-of-type {\n",
       "        vertical-align: middle;\n",
       "    }\n",
       "\n",
       "    .dataframe tbody tr th {\n",
       "        vertical-align: top;\n",
       "    }\n",
       "\n",
       "    .dataframe thead th {\n",
       "        text-align: right;\n",
       "    }\n",
       "</style>\n",
       "<table border=\"1\" class=\"dataframe\">\n",
       "  <thead>\n",
       "    <tr style=\"text-align: right;\">\n",
       "      <th></th>\n",
       "      <th>abl</th>\n",
       "      <th>abov</th>\n",
       "      <th>accept</th>\n",
       "      <th>access</th>\n",
       "      <th>act</th>\n",
       "      <th>action</th>\n",
       "      <th>activ</th>\n",
       "      <th>actual</th>\n",
       "      <th>ad</th>\n",
       "      <th>add</th>\n",
       "      <th>...</th>\n",
       "      <th>wonder</th>\n",
       "      <th>word</th>\n",
       "      <th>work</th>\n",
       "      <th>world</th>\n",
       "      <th>would</th>\n",
       "      <th>write</th>\n",
       "      <th>wrong</th>\n",
       "      <th>ye</th>\n",
       "      <th>year</th>\n",
       "      <th>yet</th>\n",
       "    </tr>\n",
       "  </thead>\n",
       "  <tbody>\n",
       "    <tr>\n",
       "      <td>0</td>\n",
       "      <td>0.0</td>\n",
       "      <td>0.000000</td>\n",
       "      <td>0.0</td>\n",
       "      <td>0.0</td>\n",
       "      <td>0.0</td>\n",
       "      <td>0.0</td>\n",
       "      <td>0.0</td>\n",
       "      <td>0.138922</td>\n",
       "      <td>0.0</td>\n",
       "      <td>0.0</td>\n",
       "      <td>...</td>\n",
       "      <td>0.0</td>\n",
       "      <td>0.0</td>\n",
       "      <td>0.000000</td>\n",
       "      <td>0.0</td>\n",
       "      <td>0.0</td>\n",
       "      <td>0.0</td>\n",
       "      <td>0.0</td>\n",
       "      <td>0.0</td>\n",
       "      <td>0.00000</td>\n",
       "      <td>0.0</td>\n",
       "    </tr>\n",
       "    <tr>\n",
       "      <td>1</td>\n",
       "      <td>0.0</td>\n",
       "      <td>0.000000</td>\n",
       "      <td>0.0</td>\n",
       "      <td>0.0</td>\n",
       "      <td>0.0</td>\n",
       "      <td>0.0</td>\n",
       "      <td>0.0</td>\n",
       "      <td>0.000000</td>\n",
       "      <td>0.0</td>\n",
       "      <td>0.0</td>\n",
       "      <td>...</td>\n",
       "      <td>0.0</td>\n",
       "      <td>0.0</td>\n",
       "      <td>0.000000</td>\n",
       "      <td>0.0</td>\n",
       "      <td>0.0</td>\n",
       "      <td>0.0</td>\n",
       "      <td>0.0</td>\n",
       "      <td>0.0</td>\n",
       "      <td>0.00000</td>\n",
       "      <td>0.0</td>\n",
       "    </tr>\n",
       "    <tr>\n",
       "      <td>2</td>\n",
       "      <td>0.0</td>\n",
       "      <td>0.000000</td>\n",
       "      <td>0.0</td>\n",
       "      <td>0.0</td>\n",
       "      <td>0.0</td>\n",
       "      <td>0.0</td>\n",
       "      <td>0.0</td>\n",
       "      <td>0.000000</td>\n",
       "      <td>0.0</td>\n",
       "      <td>0.0</td>\n",
       "      <td>...</td>\n",
       "      <td>0.0</td>\n",
       "      <td>0.0</td>\n",
       "      <td>0.000000</td>\n",
       "      <td>0.0</td>\n",
       "      <td>0.0</td>\n",
       "      <td>0.0</td>\n",
       "      <td>0.0</td>\n",
       "      <td>0.0</td>\n",
       "      <td>0.11155</td>\n",
       "      <td>0.0</td>\n",
       "    </tr>\n",
       "    <tr>\n",
       "      <td>3</td>\n",
       "      <td>0.0</td>\n",
       "      <td>0.000000</td>\n",
       "      <td>0.0</td>\n",
       "      <td>0.0</td>\n",
       "      <td>0.0</td>\n",
       "      <td>0.0</td>\n",
       "      <td>0.0</td>\n",
       "      <td>0.000000</td>\n",
       "      <td>0.0</td>\n",
       "      <td>0.0</td>\n",
       "      <td>...</td>\n",
       "      <td>0.0</td>\n",
       "      <td>0.0</td>\n",
       "      <td>0.000000</td>\n",
       "      <td>0.0</td>\n",
       "      <td>0.0</td>\n",
       "      <td>0.0</td>\n",
       "      <td>0.0</td>\n",
       "      <td>0.0</td>\n",
       "      <td>0.00000</td>\n",
       "      <td>0.0</td>\n",
       "    </tr>\n",
       "    <tr>\n",
       "      <td>4</td>\n",
       "      <td>0.0</td>\n",
       "      <td>0.151939</td>\n",
       "      <td>0.0</td>\n",
       "      <td>0.0</td>\n",
       "      <td>0.0</td>\n",
       "      <td>0.0</td>\n",
       "      <td>0.0</td>\n",
       "      <td>0.000000</td>\n",
       "      <td>0.0</td>\n",
       "      <td>0.0</td>\n",
       "      <td>...</td>\n",
       "      <td>0.0</td>\n",
       "      <td>0.0</td>\n",
       "      <td>0.110179</td>\n",
       "      <td>0.0</td>\n",
       "      <td>0.0</td>\n",
       "      <td>0.0</td>\n",
       "      <td>0.0</td>\n",
       "      <td>0.0</td>\n",
       "      <td>0.00000</td>\n",
       "      <td>0.0</td>\n",
       "    </tr>\n",
       "  </tbody>\n",
       "</table>\n",
       "<p>5 rows × 454 columns</p>\n",
       "</div>"
      ],
      "text/plain": [
       "   abl      abov  accept  access  act  action  activ    actual   ad  add  ...  \\\n",
       "0  0.0  0.000000     0.0     0.0  0.0     0.0    0.0  0.138922  0.0  0.0  ...   \n",
       "1  0.0  0.000000     0.0     0.0  0.0     0.0    0.0  0.000000  0.0  0.0  ...   \n",
       "2  0.0  0.000000     0.0     0.0  0.0     0.0    0.0  0.000000  0.0  0.0  ...   \n",
       "3  0.0  0.000000     0.0     0.0  0.0     0.0    0.0  0.000000  0.0  0.0  ...   \n",
       "4  0.0  0.151939     0.0     0.0  0.0     0.0    0.0  0.000000  0.0  0.0  ...   \n",
       "\n",
       "   wonder  word      work  world  would  write  wrong   ye     year  yet  \n",
       "0     0.0   0.0  0.000000    0.0    0.0    0.0    0.0  0.0  0.00000  0.0  \n",
       "1     0.0   0.0  0.000000    0.0    0.0    0.0    0.0  0.0  0.00000  0.0  \n",
       "2     0.0   0.0  0.000000    0.0    0.0    0.0    0.0  0.0  0.11155  0.0  \n",
       "3     0.0   0.0  0.000000    0.0    0.0    0.0    0.0  0.0  0.00000  0.0  \n",
       "4     0.0   0.0  0.110179    0.0    0.0    0.0    0.0  0.0  0.00000  0.0  \n",
       "\n",
       "[5 rows x 454 columns]"
      ]
     },
     "execution_count": 22,
     "metadata": {},
     "output_type": "execute_result"
    }
   ],
   "source": [
    "df_tfidf=pd.DataFrame(data=normlize_df,columns=tfidf_vector.get_feature_names())\n",
    "df_tfidf.head()"
   ]
  },
  {
   "cell_type": "code",
   "execution_count": 116,
   "metadata": {},
   "outputs": [
    {
     "data": {
      "image/png": "[encoded data removed]",
      "text/plain": [
       "<Figure size 720x720 with 1 Axes>"
      ]
     },
     "metadata": {
      "needs_background": "light"
     },
     "output_type": "display_data"
    }
   ],
   "source": [
    "text=' '.join(word for word in final_cleans)\n",
    "\n",
    "wordcloud=WordCloud( max_words=200).generate(text)\n",
    "plt.figure(figsize=(10,10))\n",
    "plt.imshow(wordcloud)\n",
    "plt.axis(\"off\")\n",
    "plt.show()"
   ]
  },
  {
   "cell_type": "markdown",
   "metadata": {},
   "source": [
    "### 4-Dimensiona Reduction / Topic Modeling"
   ]
  },
  {
   "cell_type": "markdown",
   "metadata": {},
   "source": [
    "High dimensionality is challenging to perform a efficient clusters of the input documents, by using high dimensionality reduction techniques we can reduce the size of the vector space model.In this project, I selected the Singular Value Decomposition (SVD) dimensionality reduction technique (linear dimensionality reduction ) because it's proved as an effective technique as the following study: \n",
    "* Text Document Preprocessing and Dimension Reduction Techniques for Text Document Clustering\n",
    "* A Comparative Study of Dimensionality Reduction Techniques to Enhance Trace Clustering Performances\n",
    "\n",
    "Furthermore,storing the data and processing time of trace clustering is effectively reduced with dimensionality reduction techniques.\n",
    "\n",
    "\n",
    "\n",
    " "
   ]
  },
  {
   "cell_type": "code",
   "execution_count": 24,
   "metadata": {},
   "outputs": [],
   "source": [
    "def top_word_topic(model,features,number_top_features):\n",
    "    for i, comp in enumerate(model.components_):\n",
    "        features_comp = zip(features, comp)\n",
    "        sorted_terms = sorted(features_comp, key= lambda x:x[1], reverse=True)[:number_top_features]\n",
    "        print('\\n \\n','** Topic '+str(i))\n",
    "        for word in (sorted_terms):\n",
    "             print(word[0], end =\", \")\n"
   ]
  },
  {
   "cell_type": "markdown",
   "metadata": {},
   "source": [
    "## 4.1 Baseline"
   ]
  },
  {
   "cell_type": "markdown",
   "metadata": {},
   "source": [
    "**Steps:**\n",
    "\n",
    "* Victorize using TFIDF (min_df=500)\n",
    "* Normlize (default by TFIDF)\n",
    "* SVD (# of component=20)\n"
   ]
  },
  {
   "cell_type": "code",
   "execution_count": 55,
   "metadata": {},
   "outputs": [],
   "source": [
    "SVD=TruncatedSVD( n_components=20) #Singular Value Decomposition (SVD) \n",
    "SVD.fit(df_tfidf)\n",
    "baseline_trans_data=SVD.transform(df_tfidf)\n",
    "terms = tfidf_vector.get_feature_names()"
   ]
  },
  {
   "cell_type": "code",
   "execution_count": 56,
   "metadata": {},
   "outputs": [],
   "source": [
    "# plt.plot(np.cumsum(SVD.explained_variance_ratio_))\n",
    "# #plt.xlim([900,950])"
   ]
  },
  {
   "cell_type": "code",
   "execution_count": 57,
   "metadata": {},
   "outputs": [
    {
     "data": {
      "text/plain": [
       "0.05103867178478149"
      ]
     },
     "execution_count": 57,
     "metadata": {},
     "output_type": "execute_result"
    }
   ],
   "source": [
    "SVD.explained_variance_ratio_.sum()"
   ]
  },
  {
   "cell_type": "markdown",
   "metadata": {},
   "source": [
    "Since the data comes from 20 different newsgroups, I set the topics=20 for our text data. The number of topics can be specified by using the n_components parameter."
   ]
  },
  {
   "cell_type": "code",
   "execution_count": 58,
   "metadata": {},
   "outputs": [],
   "source": [
    "\n",
    "\n",
    "# X_topics = SVD.fit_transform(df_tfidf)\n",
    "# embedding = umap.UMAP(n_neighbors=150, min_dist=0.5, random_state=12).fit_transform(X_topics)\n",
    "\n",
    "# plt.figure(figsize=(7,5))\n",
    "# plt.scatter(embedding[:, 0], embedding[:, 1], \n",
    "# c = data.target,\n",
    "# s = 10, # size\n",
    "# edgecolor='none'\n",
    "# )\n",
    "# plt.show()"
   ]
  },
  {
   "cell_type": "code",
   "execution_count": 59,
   "metadata": {},
   "outputs": [
    {
     "name": "stdout",
     "output_type": "stream",
     "text": [
      "\n",
      " \n",
      " ** Topic 0\n",
      "peopl, think, hi, time, doe, say, onli, make, go, work, \n",
      " \n",
      " ** Topic 1\n",
      "window, thank, file, card, drive, program, pleas, driver, run, disk, \n",
      " \n",
      " ** Topic 2\n",
      "game, team, year, drive, play, player, car, last, go, season, \n",
      " \n",
      " ** Topic 3\n",
      "drive, scsi, disk, ide, control, hard, card, chip, key, system, \n",
      " \n",
      " ** Topic 4\n",
      "key, encrypt, chip, govern, clipper, secur, escrow, phone, law, file, \n",
      " \n",
      " ** Topic 5\n",
      "pleas, thank, mail, anyon, post, email, address, edu, list, send, \n",
      " \n",
      " ** Topic 6\n",
      "key, game, chip, god, encrypt, clipper, card, bit, escrow, system, \n",
      " \n",
      " ** Topic 7\n",
      "drive, file, disk, format, scsi, program, game, hard, edu, floppi, \n",
      " \n",
      " ** Topic 8\n",
      "card, armenian, peopl, israel, game, jew, arab, govern, driver, isra, \n",
      " \n",
      " ** Topic 9\n",
      "edu, card, imag, sale, includ, offer, graphic, price, color, space, \n",
      " \n",
      " ** Topic 10\n",
      "window, god, car, mail, pleas, key, sale, new, price, offer, \n",
      " \n",
      " ** Topic 11\n",
      "hi, armenian, file, car, anyon, god, doe, key, year, turkish, \n",
      " \n",
      " ** Topic 12\n",
      "file, card, driver, car, pleas, gun, post, right, mail, ftp, \n",
      " \n",
      " ** Topic 13\n",
      "edu, geb, dsl, cadr, chastiti, pitt, surrend, intellect, bank, gordon, \n",
      " \n",
      " ** Topic 14\n",
      "doe, car, anyon, game, driver, good, new, price, peopl, edu, \n",
      " \n",
      " ** Topic 15\n",
      "driver, hi, card, car, year, post, space, scsi, team, drive, \n",
      " \n",
      " ** Topic 16\n",
      "gun, hi, law, god, fbi, fire, batf, koresh, control, weapon, \n",
      " \n",
      " ** Topic 17\n",
      "hi, israel, file, arab, sale, jew, isra, offer, modem, doe, \n",
      " \n",
      " ** Topic 18\n",
      "problem, car, gun, game, font, pleas, color, monitor, work, law, \n",
      " \n",
      " ** Topic 19\n",
      "israel, god, imag, window, pleas, arab, color, right, isra, could, "
     ]
    }
   ],
   "source": [
    "top_word_topic(SVD, terms,10) "
   ]
  },
  {
   "cell_type": "markdown",
   "metadata": {},
   "source": [
    "**These topics have alot of overlapping terms, it is hard to understand any themes between them.\n",
    "Let's lower the min_df to get more features**"
   ]
  },
  {
   "cell_type": "markdown",
   "metadata": {},
   "source": [
    "## 4.2 Experiment  2"
   ]
  },
  {
   "cell_type": "markdown",
   "metadata": {},
   "source": [
    "**Steps:**\n",
    "\n",
    "* Victorize using TFIDF (min_df=10)\n",
    "* Normlize(default by TFIDF)\n",
    "* SVD (# of component=20)"
   ]
  },
  {
   "cell_type": "markdown",
   "metadata": {},
   "source": [
    "### Vectorize"
   ]
  },
  {
   "cell_type": "code",
   "execution_count": 32,
   "metadata": {},
   "outputs": [
    {
     "data": {
      "text/html": [
       "<div>\n",
       "<style scoped>\n",
       "    .dataframe tbody tr th:only-of-type {\n",
       "        vertical-align: middle;\n",
       "    }\n",
       "\n",
       "    .dataframe tbody tr th {\n",
       "        vertical-align: top;\n",
       "    }\n",
       "\n",
       "    .dataframe thead th {\n",
       "        text-align: right;\n",
       "    }\n",
       "</style>\n",
       "<table border=\"1\" class=\"dataframe\">\n",
       "  <thead>\n",
       "    <tr style=\"text-align: right;\">\n",
       "      <th></th>\n",
       "      <th>aa</th>\n",
       "      <th>aaa</th>\n",
       "      <th>aaron</th>\n",
       "      <th>ab</th>\n",
       "      <th>abandon</th>\n",
       "      <th>abbrevi</th>\n",
       "      <th>abc</th>\n",
       "      <th>abdomin</th>\n",
       "      <th>aberr</th>\n",
       "      <th>abid</th>\n",
       "      <th>...</th>\n",
       "      <th>zoo</th>\n",
       "      <th>zoom</th>\n",
       "      <th>zq</th>\n",
       "      <th>zr</th>\n",
       "      <th>zs</th>\n",
       "      <th>zu</th>\n",
       "      <th>zuma</th>\n",
       "      <th>zv</th>\n",
       "      <th>zx</th>\n",
       "      <th>zyxel</th>\n",
       "    </tr>\n",
       "  </thead>\n",
       "  <tbody>\n",
       "    <tr>\n",
       "      <td>0</td>\n",
       "      <td>0.0</td>\n",
       "      <td>0.0</td>\n",
       "      <td>0.0</td>\n",
       "      <td>0.0</td>\n",
       "      <td>0.0</td>\n",
       "      <td>0.0</td>\n",
       "      <td>0.0</td>\n",
       "      <td>0.0</td>\n",
       "      <td>0.0</td>\n",
       "      <td>0.0</td>\n",
       "      <td>...</td>\n",
       "      <td>0.0</td>\n",
       "      <td>0.0</td>\n",
       "      <td>0.0</td>\n",
       "      <td>0.0</td>\n",
       "      <td>0.0</td>\n",
       "      <td>0.0</td>\n",
       "      <td>0.0</td>\n",
       "      <td>0.0</td>\n",
       "      <td>0.0</td>\n",
       "      <td>0.0</td>\n",
       "    </tr>\n",
       "    <tr>\n",
       "      <td>1</td>\n",
       "      <td>0.0</td>\n",
       "      <td>0.0</td>\n",
       "      <td>0.0</td>\n",
       "      <td>0.0</td>\n",
       "      <td>0.0</td>\n",
       "      <td>0.0</td>\n",
       "      <td>0.0</td>\n",
       "      <td>0.0</td>\n",
       "      <td>0.0</td>\n",
       "      <td>0.0</td>\n",
       "      <td>...</td>\n",
       "      <td>0.0</td>\n",
       "      <td>0.0</td>\n",
       "      <td>0.0</td>\n",
       "      <td>0.0</td>\n",
       "      <td>0.0</td>\n",
       "      <td>0.0</td>\n",
       "      <td>0.0</td>\n",
       "      <td>0.0</td>\n",
       "      <td>0.0</td>\n",
       "      <td>0.0</td>\n",
       "    </tr>\n",
       "  </tbody>\n",
       "</table>\n",
       "<p>2 rows × 9625 columns</p>\n",
       "</div>"
      ],
      "text/plain": [
       "    aa  aaa  aaron   ab  abandon  abbrevi  abc  abdomin  aberr  abid  ...  \\\n",
       "0  0.0  0.0    0.0  0.0      0.0      0.0  0.0      0.0    0.0   0.0  ...   \n",
       "1  0.0  0.0    0.0  0.0      0.0      0.0  0.0      0.0    0.0   0.0  ...   \n",
       "\n",
       "   zoo  zoom   zq   zr   zs   zu  zuma   zv   zx  zyxel  \n",
       "0  0.0   0.0  0.0  0.0  0.0  0.0   0.0  0.0  0.0    0.0  \n",
       "1  0.0   0.0  0.0  0.0  0.0  0.0   0.0  0.0  0.0    0.0  \n",
       "\n",
       "[2 rows x 9625 columns]"
      ]
     },
     "execution_count": 32,
     "metadata": {},
     "output_type": "execute_result"
    }
   ],
   "source": [
    "# changed to min_df = 10\n",
    "tfidf_vector=TfidfVectorizer(stop_words=stopword, lowercase=False,min_df=10)\n",
    "tfidf_docs=tfidf_vector.fit_transform(final_cleans)\n",
    "normlize_df=normalize(tfidf_docs).toarray() \n",
    "\n",
    "df_tfidf=pd.DataFrame(data=normlize_df, columns=tfidf_vector.get_feature_names())\n",
    "df_tfidf.head(2)"
   ]
  },
  {
   "cell_type": "markdown",
   "metadata": {},
   "source": [
    "### Reduce Dimensions"
   ]
  },
  {
   "cell_type": "code",
   "execution_count": 145,
   "metadata": {},
   "outputs": [
    {
     "name": "stdout",
     "output_type": "stream",
     "text": [
      "\n",
      " \n",
      " ** Topic 0\n",
      "thi, wa, would, one, use, ani, get, know, like, ha, \n",
      " \n",
      " ** Topic 1\n",
      "window, file, thank, use, card, drive, program, pleas, driver, run, \n",
      " \n",
      " ** Topic 2\n",
      "game, wa, team, year, drive, play, player, car, last, get, \n",
      " \n",
      " ** Topic 3\n",
      "drive, key, scsi, chip, use, system, encrypt, disk, govern, control, \n",
      " \n",
      " ** Topic 4\n",
      "drive, god, scsi, card, thank, christian, hi, pleas, jesu, disk, \n",
      " \n",
      " ** Topic 5\n",
      "window, file, god, wa, run, drive, problem, driver, disk, use, \n",
      " \n",
      " ** Topic 6\n",
      "wa, armenian, car, window, thank, bike, kill, israel, gun, file, \n",
      " \n",
      " ** Topic 7\n",
      "wa, file, drive, edu, game, mail, pleas, armenian, key, disk, \n",
      " \n",
      " ** Topic 8\n",
      "card, wa, key, chip, anyon, driver, video, doe, monitor, hi, \n",
      " \n",
      " ** Topic 9\n",
      "drive, file, would, anyon, know, scsi, thank, ani, doe, key, \n",
      " \n",
      " ** Topic 10\n",
      "wa, key, god, car, use, chip, bike, encrypt, hi, jesu, \n",
      " \n",
      " ** Topic 11\n",
      "thi, post, problem, read, group, test, monitor, articl, card, newsgroup, \n",
      " \n",
      " ** Topic 12\n",
      "window, thi, pleas, mail, key, post, car, drive, list, repli, \n",
      " \n",
      " ** Topic 13\n",
      "file, car, card, know, driver, doe, get, format, ftp, key, \n",
      " \n",
      " ** Topic 14\n",
      "doe, anyon, armenian, ha, car, thi, use, know, year, one, \n",
      " \n",
      " ** Topic 15\n",
      "edu, geb, dsl, cadr, chastiti, pitt, bank, intellect, surrend, gordon, \n",
      " \n",
      " ** Topic 16\n",
      "car, wa, window, driver, card, doe, drive, ani, graphic, anyon, \n",
      " \n",
      " ** Topic 17\n",
      "game, use, gun, wa, doe, know, anyon, port, want, modem, \n",
      " \n",
      " ** Topic 18\n",
      "hi, gun, law, ha, year, god, team, use, crime, control, \n",
      " \n",
      " ** Topic 19\n",
      "space, get, god, know, scsi, go, armenian, peopl, nasa, system, "
     ]
    }
   ],
   "source": [
    "SVD=TruncatedSVD( n_components=20)\n",
    "SVD.fit(df_tfidf)\n",
    "trans_data=SVD.transform(df_tfidf)\n",
    "terms = tfidf_vector.get_feature_names()\n",
    "top_word_topic(SVD, terms,10)"
   ]
  },
  {
   "cell_type": "code",
   "execution_count": 149,
   "metadata": {},
   "outputs": [
    {
     "data": {
      "text/plain": [
       "array([ 2.50116383e+03,  8.01920445e+01,  6.69016422e+01, -2.06636942e+01,\n",
       "        9.18716330e+00, -2.73409069e+01,  7.44853926e+00,  3.10191530e+01,\n",
       "       -3.31720576e+01, -5.79196778e+01, -1.39046591e+01, -2.53019925e+01,\n",
       "       -8.35870243e+00,  8.98500009e+00,  1.49661603e+01,  2.78564173e+01,\n",
       "       -8.44333505e+00,  1.45432912e+01, -2.49113242e+00, -1.05010784e+00])"
      ]
     },
     "execution_count": 149,
     "metadata": {},
     "output_type": "execute_result"
    }
   ],
   "source": [
    "(trans_data).sum(axis=0)"
   ]
  },
  {
   "cell_type": "code",
   "execution_count": 154,
   "metadata": {},
   "outputs": [
    {
     "data": {
      "text/plain": [
       "array([1., 1., 1., 1., 1., 1., 1., 1., 1., 1., 1., 1., 1., 1., 1., 1., 1.,\n",
       "       1., 1., 1.])"
      ]
     },
     "execution_count": 154,
     "metadata": {},
     "output_type": "execute_result"
    }
   ],
   "source": [
    "((SVD.components_.T)**2).sum(axis=0)"
   ]
  },
  {
   "cell_type": "code",
   "execution_count": 160,
   "metadata": {},
   "outputs": [
    {
     "data": {
      "text/plain": [
       "0.8074561150282202"
      ]
     },
     "execution_count": 160,
     "metadata": {},
     "output_type": "execute_result"
    }
   ],
   "source": [
    "((SVD.components_.T)**2).sum(axis=1).max()"
   ]
  },
  {
   "cell_type": "markdown",
   "metadata": {},
   "source": [
    "**Still kind of indistinct, but Topic 14 seems very specific and there is a greater diversity of terms because the vocabulary is larger** "
   ]
  },
  {
   "cell_type": "markdown",
   "metadata": {},
   "source": [
    "Let's see another model with the same data to see if it produces better topics."
   ]
  },
  {
   "cell_type": "markdown",
   "metadata": {},
   "source": [
    "## 4.3 Experiment  3"
   ]
  },
  {
   "cell_type": "markdown",
   "metadata": {},
   "source": [
    "\n",
    "* Victorize using TFIDF (min_df=10)\n",
    "* Normlize(default by TFIDF)\n",
    "* NMF (# of component=20)"
   ]
  },
  {
   "cell_type": "code",
   "execution_count": 41,
   "metadata": {},
   "outputs": [
    {
     "name": "stdout",
     "output_type": "stream",
     "text": [
      "\n",
      " \n",
      " ** Topic 0\n",
      "get, think, one, go, like, thing, want, good, say, peopl, \n",
      " \n",
      " ** Topic 1\n",
      "would, like, ani, appreci, could, help, greatli, someon, look, also, \n",
      " \n",
      " ** Topic 2\n",
      "game, team, play, player, win, year, hockey, score, basebal, season, \n",
      " \n",
      " ** Topic 3\n",
      "drive, scsi, disk, hard, ide, floppi, control, boot, system, hd, \n",
      " \n",
      " ** Topic 4\n",
      "god, christian, jesu, believ, bibl, hi, sin, christ, faith, exist, \n",
      " \n",
      " ** Topic 5\n",
      "window, run, program, ms, os, applic, font, manag, version, server, \n",
      " \n",
      " ** Topic 6\n",
      "key, chip, encrypt, clipper, escrow, secur, phone, bit, algorithm, govern, \n",
      " \n",
      " ** Topic 7\n",
      "space, system, imag, program, graphic, comput, data, inform, avail, softwar, \n",
      " \n",
      " ** Topic 8\n",
      "card, driver, video, monitor, color, bu, vga, mode, graphic, bit, \n",
      " \n",
      " ** Topic 9\n",
      "sale, price, offer, new, sell, ship, includ, condit, ask, manual, \n",
      " \n",
      " ** Topic 10\n",
      "armenian, israel, jew, arab, muslim, isra, turkish, kill, genocid, jewish, \n",
      " \n",
      " ** Topic 11\n",
      "thi, post, group, ha, read, question, discuss, newsgroup, true, problem, \n",
      " \n",
      " ** Topic 12\n",
      "pleas, mail, thank, address, list, email, post, repli, send, advanc, \n",
      " \n",
      " ** Topic 13\n",
      "file, format, gif, convert, ftp, directori, program, imag, zip, disk, \n",
      " \n",
      " ** Topic 14\n",
      "anyon, doe, know, ani, thank, ha, advanc, anybodi, appreci, info, \n",
      " \n",
      " ** Topic 15\n",
      "edu, geb, dsl, cadr, chastiti, pitt, bank, intellect, gordon, surrend, \n",
      " \n",
      " ** Topic 16\n",
      "car, bike, engin, mile, buy, ride, dealer, speed, oil, insur, \n",
      " \n",
      " ** Topic 17\n",
      "wa, hi, year, said, day, ago, time, thought, last, wonder, \n",
      " \n",
      " ** Topic 18\n",
      "gun, law, peopl, right, govern, state, fbi, batf, weapon, crime, \n",
      " \n",
      " ** Topic 19\n",
      "use, problem, work, port, modem, machin, tri, printer, help, set, "
     ]
    }
   ],
   "source": [
    "# NMF default solver will take longer than SVD to fit\n",
    "# NMF is also creates approximate decompositions,may we got a different results each time \n",
    "# Non-negative Matrix Factorization(NMF)\n",
    "nmf=NMF(n_components=20, random_state=20)\n",
    "trans_data=nmf.fit_transform(df_tfidf)\n",
    "terms = tfidf_vector.get_feature_names()\n",
    "top_word_topic(nmf, terms, 10)"
   ]
  },
  {
   "cell_type": "code",
   "execution_count": 144,
   "metadata": {},
   "outputs": [
    {
     "data": {
      "text/plain": [
       "Topic0     170.293982\n",
       "Topic1     101.196474\n",
       "Topic2     114.318132\n",
       "Topic3      69.524277\n",
       "Topic4      67.099361\n",
       "Topic5     145.645957\n",
       "Topic6      72.407035\n",
       "Topic7      83.159884\n",
       "Topic8      54.423109\n",
       "Topic9     116.347192\n",
       "Topic10     74.999107\n",
       "Topic11     48.688697\n",
       "Topic12     70.916354\n",
       "Topic13     49.758550\n",
       "Topic14    133.300276\n",
       "Topic15     93.212058\n",
       "Topic16    128.634984\n",
       "Topic17     99.968347\n",
       "Topic18    172.014070\n",
       "Topic19     84.270142\n",
       "dtype: float64"
      ]
     },
     "execution_count": 144,
     "metadata": {},
     "output_type": "execute_result"
    }
   ],
   "source": [
    "(trans_data).sum(axis=0)"
   ]
  },
  {
   "cell_type": "markdown",
   "metadata": {},
   "source": [
    "We can obsierve that more distinct! The computer terms are not mixed with religious terms any more.  Sports are with sports. etc. Therefore, I use NMF instead of SVD."
   ]
  },
  {
   "cell_type": "markdown",
   "metadata": {},
   "source": [
    "I'd like to see whether setting a `max_df` will remove some terms like \"also\" and \"said\", we could do this by adding them to the stop_words list, but max_df will be an easier, more automated fix."
   ]
  },
  {
   "cell_type": "markdown",
   "metadata": {},
   "source": [
    "## 4.4 Experiment  4 "
   ]
  },
  {
   "cell_type": "markdown",
   "metadata": {},
   "source": [
    "**Steps:**\n",
    "* Victorize using TFIDF (min_df=10,max_df=.5)\n",
    "* Normlize(default by TFIDF)\n",
    "* NMF (# of component=20)"
   ]
  },
  {
   "cell_type": "markdown",
   "metadata": {},
   "source": [
    "### Vectorize"
   ]
  },
  {
   "cell_type": "code",
   "execution_count": 91,
   "metadata": {},
   "outputs": [
    {
     "data": {
      "text/html": [
       "<div>\n",
       "<style scoped>\n",
       "    .dataframe tbody tr th:only-of-type {\n",
       "        vertical-align: middle;\n",
       "    }\n",
       "\n",
       "    .dataframe tbody tr th {\n",
       "        vertical-align: top;\n",
       "    }\n",
       "\n",
       "    .dataframe thead th {\n",
       "        text-align: right;\n",
       "    }\n",
       "</style>\n",
       "<table border=\"1\" class=\"dataframe\">\n",
       "  <thead>\n",
       "    <tr style=\"text-align: right;\">\n",
       "      <th></th>\n",
       "      <th>aa</th>\n",
       "      <th>aaa</th>\n",
       "      <th>aaron</th>\n",
       "      <th>ab</th>\n",
       "      <th>abandon</th>\n",
       "      <th>abbrevi</th>\n",
       "      <th>abc</th>\n",
       "      <th>abdomin</th>\n",
       "      <th>aberr</th>\n",
       "      <th>abid</th>\n",
       "      <th>...</th>\n",
       "      <th>zoo</th>\n",
       "      <th>zoom</th>\n",
       "      <th>zq</th>\n",
       "      <th>zr</th>\n",
       "      <th>zs</th>\n",
       "      <th>zu</th>\n",
       "      <th>zuma</th>\n",
       "      <th>zv</th>\n",
       "      <th>zx</th>\n",
       "      <th>zyxel</th>\n",
       "    </tr>\n",
       "  </thead>\n",
       "  <tbody>\n",
       "    <tr>\n",
       "      <td>0</td>\n",
       "      <td>0.0</td>\n",
       "      <td>0.0</td>\n",
       "      <td>0.0</td>\n",
       "      <td>0.0</td>\n",
       "      <td>0.0</td>\n",
       "      <td>0.0</td>\n",
       "      <td>0.0</td>\n",
       "      <td>0.0</td>\n",
       "      <td>0.0</td>\n",
       "      <td>0.0</td>\n",
       "      <td>...</td>\n",
       "      <td>0.0</td>\n",
       "      <td>0.0</td>\n",
       "      <td>0.0</td>\n",
       "      <td>0.0</td>\n",
       "      <td>0.0</td>\n",
       "      <td>0.0</td>\n",
       "      <td>0.0</td>\n",
       "      <td>0.0</td>\n",
       "      <td>0.0</td>\n",
       "      <td>0.0</td>\n",
       "    </tr>\n",
       "    <tr>\n",
       "      <td>1</td>\n",
       "      <td>0.0</td>\n",
       "      <td>0.0</td>\n",
       "      <td>0.0</td>\n",
       "      <td>0.0</td>\n",
       "      <td>0.0</td>\n",
       "      <td>0.0</td>\n",
       "      <td>0.0</td>\n",
       "      <td>0.0</td>\n",
       "      <td>0.0</td>\n",
       "      <td>0.0</td>\n",
       "      <td>...</td>\n",
       "      <td>0.0</td>\n",
       "      <td>0.0</td>\n",
       "      <td>0.0</td>\n",
       "      <td>0.0</td>\n",
       "      <td>0.0</td>\n",
       "      <td>0.0</td>\n",
       "      <td>0.0</td>\n",
       "      <td>0.0</td>\n",
       "      <td>0.0</td>\n",
       "      <td>0.0</td>\n",
       "    </tr>\n",
       "  </tbody>\n",
       "</table>\n",
       "<p>2 rows × 9625 columns</p>\n",
       "</div>"
      ],
      "text/plain": [
       "    aa  aaa  aaron   ab  abandon  abbrevi  abc  abdomin  aberr  abid  ...  \\\n",
       "0  0.0  0.0    0.0  0.0      0.0      0.0  0.0      0.0    0.0   0.0  ...   \n",
       "1  0.0  0.0    0.0  0.0      0.0      0.0  0.0      0.0    0.0   0.0  ...   \n",
       "\n",
       "   zoo  zoom   zq   zr   zs   zu  zuma   zv   zx  zyxel  \n",
       "0  0.0   0.0  0.0  0.0  0.0  0.0   0.0  0.0  0.0    0.0  \n",
       "1  0.0   0.0  0.0  0.0  0.0  0.0   0.0  0.0  0.0    0.0  \n",
       "\n",
       "[2 rows x 9625 columns]"
      ]
     },
     "execution_count": 91,
     "metadata": {},
     "output_type": "execute_result"
    }
   ],
   "source": [
    "# changed to min_df = 10 and max_df of 50%\n",
    "tfidf_vector=TfidfVectorizer(stop_words=stopword, lowercase=False,min_df=10, max_df=.5)\n",
    "tfidf_docs=tfidf_vector.fit_transform(final_cleans)\n",
    "#normlize_df=normalize(tfidf_docs).toarray() <--- I removed this because tf-idf already encompasses a type of normalization\n",
    "\n",
    "df_tfidf=pd.DataFrame(data=tfidf_docs.todense(), columns=tfidf_vector.get_feature_names())\n",
    "df_tfidf.head(2)"
   ]
  },
  {
   "cell_type": "markdown",
   "metadata": {},
   "source": [
    "Notice that this is the same shape as when I didn't have a max_df, so 50% doesn't change our vocab.  Let's try moving it even lower."
   ]
  },
  {
   "cell_type": "code",
   "execution_count": 43,
   "metadata": {},
   "outputs": [
    {
     "data": {
      "text/html": [
       "<div>\n",
       "<style scoped>\n",
       "    .dataframe tbody tr th:only-of-type {\n",
       "        vertical-align: middle;\n",
       "    }\n",
       "\n",
       "    .dataframe tbody tr th {\n",
       "        vertical-align: top;\n",
       "    }\n",
       "\n",
       "    .dataframe thead th {\n",
       "        text-align: right;\n",
       "    }\n",
       "</style>\n",
       "<table border=\"1\" class=\"dataframe\">\n",
       "  <thead>\n",
       "    <tr style=\"text-align: right;\">\n",
       "      <th></th>\n",
       "      <th>aa</th>\n",
       "      <th>aaa</th>\n",
       "      <th>aaron</th>\n",
       "      <th>ab</th>\n",
       "      <th>abandon</th>\n",
       "      <th>abbrevi</th>\n",
       "      <th>abc</th>\n",
       "      <th>abdomin</th>\n",
       "      <th>aberr</th>\n",
       "      <th>abid</th>\n",
       "      <th>...</th>\n",
       "      <th>zoo</th>\n",
       "      <th>zoom</th>\n",
       "      <th>zq</th>\n",
       "      <th>zr</th>\n",
       "      <th>zs</th>\n",
       "      <th>zu</th>\n",
       "      <th>zuma</th>\n",
       "      <th>zv</th>\n",
       "      <th>zx</th>\n",
       "      <th>zyxel</th>\n",
       "    </tr>\n",
       "  </thead>\n",
       "  <tbody>\n",
       "    <tr>\n",
       "      <td>0</td>\n",
       "      <td>0.0</td>\n",
       "      <td>0.0</td>\n",
       "      <td>0.0</td>\n",
       "      <td>0.0</td>\n",
       "      <td>0.0</td>\n",
       "      <td>0.0</td>\n",
       "      <td>0.0</td>\n",
       "      <td>0.0</td>\n",
       "      <td>0.0</td>\n",
       "      <td>0.0</td>\n",
       "      <td>...</td>\n",
       "      <td>0.0</td>\n",
       "      <td>0.0</td>\n",
       "      <td>0.0</td>\n",
       "      <td>0.0</td>\n",
       "      <td>0.0</td>\n",
       "      <td>0.0</td>\n",
       "      <td>0.0</td>\n",
       "      <td>0.0</td>\n",
       "      <td>0.0</td>\n",
       "      <td>0.0</td>\n",
       "    </tr>\n",
       "    <tr>\n",
       "      <td>1</td>\n",
       "      <td>0.0</td>\n",
       "      <td>0.0</td>\n",
       "      <td>0.0</td>\n",
       "      <td>0.0</td>\n",
       "      <td>0.0</td>\n",
       "      <td>0.0</td>\n",
       "      <td>0.0</td>\n",
       "      <td>0.0</td>\n",
       "      <td>0.0</td>\n",
       "      <td>0.0</td>\n",
       "      <td>...</td>\n",
       "      <td>0.0</td>\n",
       "      <td>0.0</td>\n",
       "      <td>0.0</td>\n",
       "      <td>0.0</td>\n",
       "      <td>0.0</td>\n",
       "      <td>0.0</td>\n",
       "      <td>0.0</td>\n",
       "      <td>0.0</td>\n",
       "      <td>0.0</td>\n",
       "      <td>0.0</td>\n",
       "    </tr>\n",
       "  </tbody>\n",
       "</table>\n",
       "<p>2 rows × 9615 columns</p>\n",
       "</div>"
      ],
      "text/plain": [
       "    aa  aaa  aaron   ab  abandon  abbrevi  abc  abdomin  aberr  abid  ...  \\\n",
       "0  0.0  0.0    0.0  0.0      0.0      0.0  0.0      0.0    0.0   0.0  ...   \n",
       "1  0.0  0.0    0.0  0.0      0.0      0.0  0.0      0.0    0.0   0.0  ...   \n",
       "\n",
       "   zoo  zoom   zq   zr   zs   zu  zuma   zv   zx  zyxel  \n",
       "0  0.0   0.0  0.0  0.0  0.0  0.0   0.0  0.0  0.0    0.0  \n",
       "1  0.0   0.0  0.0  0.0  0.0  0.0   0.0  0.0  0.0    0.0  \n",
       "\n",
       "[2 rows x 9615 columns]"
      ]
     },
     "execution_count": 43,
     "metadata": {},
     "output_type": "execute_result"
    }
   ],
   "source": [
    "# changed to min_df = 10 and max_df of 30%\n",
    "tfidf_vector=TfidfVectorizer(stop_words=stopword, lowercase=False,min_df=10, max_df=.2)\n",
    "tfidf_docs=tfidf_vector.fit_transform(final_cleans)\n",
    "#normlize_df=normalize(tfidf_docs).toarray() <--- I removed this because tf-idf already encompasses a type of normalization\n",
    "\n",
    "df_tfidf=pd.DataFrame(data=tfidf_docs.todense(), columns=tfidf_vector.get_feature_names())\n",
    "df_tfidf.head(2)"
   ]
  },
  {
   "cell_type": "markdown",
   "metadata": {},
   "source": [
    "### Reduce Dimensions"
   ]
  },
  {
   "cell_type": "code",
   "execution_count": 44,
   "metadata": {},
   "outputs": [
    {
     "name": "stdout",
     "output_type": "stream",
     "text": [
      "\n",
      " \n",
      " ** Topic 0\n",
      "think, peopl, say, thing, go, whi, make, see, want, good, \n",
      " \n",
      " ** Topic 1\n",
      "problem, work, run, tri, system, machin, fix, time, error, fine, \n",
      " \n",
      " ** Topic 2\n",
      "game, team, play, year, player, win, hi, hockey, season, score, \n",
      " \n",
      " ** Topic 3\n",
      "drive, scsi, disk, hard, ide, floppi, control, boot, meg, hd, \n",
      " \n",
      " ** Topic 4\n",
      "god, christian, jesu, hi, believ, bibl, sin, christ, faith, church, \n",
      " \n",
      " ** Topic 5\n",
      "pleas, mail, post, list, address, email, send, repli, thank, edu, \n",
      " \n",
      " ** Topic 6\n",
      "key, chip, encrypt, clipper, escrow, secur, phone, bit, algorithm, govern, \n",
      " \n",
      " ** Topic 7\n",
      "file, format, program, ftp, convert, gif, directori, zip, imag, disk, \n",
      " \n",
      " ** Topic 8\n",
      "israel, arab, jew, isra, jewish, palestinian, state, kill, peac, war, \n",
      " \n",
      " ** Topic 9\n",
      "sale, price, offer, new, sell, ship, condit, includ, ask, best, \n",
      " \n",
      " ** Topic 10\n",
      "window, run, program, ms, applic, os, font, manag, version, app, \n",
      " \n",
      " ** Topic 11\n",
      "armenian, turkish, muslim, genocid, armenia, turk, turkey, peopl, russian, soviet, \n",
      " \n",
      " ** Topic 12\n",
      "card, driver, video, bu, diamond, ati, vlb, isa, mode, slot, \n",
      " \n",
      " ** Topic 13\n",
      "edu, geb, dsl, cadr, chastiti, pitt, bank, intellect, gordon, surrend, \n",
      " \n",
      " ** Topic 14\n",
      "anyon, thank, doe, advanc, appreci, hi, help, info, could, inform, \n",
      " \n",
      " ** Topic 15\n",
      "modem, port, mac, pc, serial, printer, connect, softwar, pin, board, \n",
      " \n",
      " ** Topic 16\n",
      "gun, law, govern, fbi, right, fire, batf, state, weapon, koresh, \n",
      " \n",
      " ** Topic 17\n",
      "car, bike, engin, ride, mile, buy, look, speed, front, oil, \n",
      " \n",
      " ** Topic 18\n",
      "space, system, program, inform, orbit, data, nasa, avail, comput, also, \n",
      " \n",
      " ** Topic 19\n",
      "monitor, color, imag, display, screen, bit, vga, video, appl, graphic, CPU times: user 5min 22s, sys: 7.22 s, total: 5min 29s\n",
      "Wall time: 2min 50s\n"
     ]
    }
   ],
   "source": [
    "%%time\n",
    "#Non-negative Matrix Factorization(NMF)\n",
    "nmf=NMF(n_components=20, random_state=20)\n",
    "trans_data=nmf.fit_transform(df_tfidf)\n",
    "terms = tfidf_vector.get_feature_names()\n",
    "top_word_topic(nmf, terms, 10)\n",
    "#nmf.reconstraction_err_ to select best number of component , lower number is better "
   ]
  },
  {
   "cell_type": "code",
   "execution_count": 256,
   "metadata": {},
   "outputs": [
    {
     "data": {
      "text/html": [
       "<div>\n",
       "<style scoped>\n",
       "    .dataframe tbody tr th:only-of-type {\n",
       "        vertical-align: middle;\n",
       "    }\n",
       "\n",
       "    .dataframe tbody tr th {\n",
       "        vertical-align: top;\n",
       "    }\n",
       "\n",
       "    .dataframe thead th {\n",
       "        text-align: right;\n",
       "    }\n",
       "</style>\n",
       "<table border=\"1\" class=\"dataframe\">\n",
       "  <thead>\n",
       "    <tr style=\"text-align: right;\">\n",
       "      <th></th>\n",
       "      <th>Topic0</th>\n",
       "      <th>Topic1</th>\n",
       "      <th>Topic2</th>\n",
       "      <th>Topic3</th>\n",
       "      <th>Topic4</th>\n",
       "      <th>Topic5</th>\n",
       "      <th>Topic6</th>\n",
       "      <th>Topic7</th>\n",
       "      <th>Topic8</th>\n",
       "      <th>Topic9</th>\n",
       "      <th>Topic10</th>\n",
       "      <th>Topic11</th>\n",
       "      <th>Topic12</th>\n",
       "      <th>Topic13</th>\n",
       "      <th>Topic14</th>\n",
       "      <th>Topic15</th>\n",
       "      <th>Topic16</th>\n",
       "      <th>Topic17</th>\n",
       "      <th>Topic18</th>\n",
       "      <th>Topic19</th>\n",
       "    </tr>\n",
       "  </thead>\n",
       "  <tbody>\n",
       "    <tr>\n",
       "      <td>0</td>\n",
       "      <td>0.140775</td>\n",
       "      <td>-0.060377</td>\n",
       "      <td>0.156950</td>\n",
       "      <td>-0.092780</td>\n",
       "      <td>-0.009174</td>\n",
       "      <td>0.021312</td>\n",
       "      <td>-0.112827</td>\n",
       "      <td>0.023321</td>\n",
       "      <td>0.009652</td>\n",
       "      <td>0.027311</td>\n",
       "      <td>-0.019178</td>\n",
       "      <td>-0.006190</td>\n",
       "      <td>-0.015085</td>\n",
       "      <td>0.020889</td>\n",
       "      <td>-0.009980</td>\n",
       "      <td>-0.003694</td>\n",
       "      <td>-0.021449</td>\n",
       "      <td>0.014209</td>\n",
       "      <td>-0.035523</td>\n",
       "      <td>0.017470</td>\n",
       "    </tr>\n",
       "    <tr>\n",
       "      <td>1</td>\n",
       "      <td>0.120529</td>\n",
       "      <td>0.173893</td>\n",
       "      <td>-0.002629</td>\n",
       "      <td>-0.027704</td>\n",
       "      <td>0.128370</td>\n",
       "      <td>-0.052883</td>\n",
       "      <td>-0.015604</td>\n",
       "      <td>-0.040175</td>\n",
       "      <td>0.251481</td>\n",
       "      <td>-0.104955</td>\n",
       "      <td>-0.147703</td>\n",
       "      <td>0.018911</td>\n",
       "      <td>-0.038849</td>\n",
       "      <td>0.086671</td>\n",
       "      <td>-0.076892</td>\n",
       "      <td>-0.020678</td>\n",
       "      <td>0.088055</td>\n",
       "      <td>-0.062546</td>\n",
       "      <td>0.031143</td>\n",
       "      <td>0.082653</td>\n",
       "    </tr>\n",
       "    <tr>\n",
       "      <td>2</td>\n",
       "      <td>0.171556</td>\n",
       "      <td>-0.104033</td>\n",
       "      <td>0.017275</td>\n",
       "      <td>0.029305</td>\n",
       "      <td>-0.051022</td>\n",
       "      <td>0.002489</td>\n",
       "      <td>0.123772</td>\n",
       "      <td>0.058559</td>\n",
       "      <td>0.037512</td>\n",
       "      <td>0.001276</td>\n",
       "      <td>-0.148641</td>\n",
       "      <td>-0.103177</td>\n",
       "      <td>-0.011552</td>\n",
       "      <td>0.067707</td>\n",
       "      <td>0.107882</td>\n",
       "      <td>-0.028066</td>\n",
       "      <td>-0.106080</td>\n",
       "      <td>-0.070002</td>\n",
       "      <td>-0.053456</td>\n",
       "      <td>0.051747</td>\n",
       "    </tr>\n",
       "    <tr>\n",
       "      <td>3</td>\n",
       "      <td>0.109208</td>\n",
       "      <td>0.116833</td>\n",
       "      <td>0.028143</td>\n",
       "      <td>0.141671</td>\n",
       "      <td>0.088034</td>\n",
       "      <td>0.052332</td>\n",
       "      <td>-0.048718</td>\n",
       "      <td>0.053394</td>\n",
       "      <td>0.075722</td>\n",
       "      <td>0.039281</td>\n",
       "      <td>-0.070911</td>\n",
       "      <td>0.049184</td>\n",
       "      <td>-0.037770</td>\n",
       "      <td>0.020154</td>\n",
       "      <td>-0.026744</td>\n",
       "      <td>0.033691</td>\n",
       "      <td>0.029130</td>\n",
       "      <td>-0.030531</td>\n",
       "      <td>0.027425</td>\n",
       "      <td>0.116493</td>\n",
       "    </tr>\n",
       "    <tr>\n",
       "      <td>4</td>\n",
       "      <td>0.230053</td>\n",
       "      <td>0.191465</td>\n",
       "      <td>0.010557</td>\n",
       "      <td>0.164757</td>\n",
       "      <td>0.116151</td>\n",
       "      <td>0.037414</td>\n",
       "      <td>-0.022532</td>\n",
       "      <td>0.027116</td>\n",
       "      <td>0.004320</td>\n",
       "      <td>0.124060</td>\n",
       "      <td>0.054968</td>\n",
       "      <td>0.013351</td>\n",
       "      <td>-0.027080</td>\n",
       "      <td>0.024013</td>\n",
       "      <td>0.136564</td>\n",
       "      <td>0.014986</td>\n",
       "      <td>0.071564</td>\n",
       "      <td>0.092669</td>\n",
       "      <td>-0.004819</td>\n",
       "      <td>0.035921</td>\n",
       "    </tr>\n",
       "    <tr>\n",
       "      <td>...</td>\n",
       "      <td>...</td>\n",
       "      <td>...</td>\n",
       "      <td>...</td>\n",
       "      <td>...</td>\n",
       "      <td>...</td>\n",
       "      <td>...</td>\n",
       "      <td>...</td>\n",
       "      <td>...</td>\n",
       "      <td>...</td>\n",
       "      <td>...</td>\n",
       "      <td>...</td>\n",
       "      <td>...</td>\n",
       "      <td>...</td>\n",
       "      <td>...</td>\n",
       "      <td>...</td>\n",
       "      <td>...</td>\n",
       "      <td>...</td>\n",
       "      <td>...</td>\n",
       "      <td>...</td>\n",
       "      <td>...</td>\n",
       "    </tr>\n",
       "    <tr>\n",
       "      <td>18841</td>\n",
       "      <td>0.127026</td>\n",
       "      <td>-0.030076</td>\n",
       "      <td>0.006775</td>\n",
       "      <td>0.014545</td>\n",
       "      <td>-0.020246</td>\n",
       "      <td>-0.003980</td>\n",
       "      <td>-0.000770</td>\n",
       "      <td>-0.034077</td>\n",
       "      <td>-0.045719</td>\n",
       "      <td>-0.018776</td>\n",
       "      <td>-0.014391</td>\n",
       "      <td>0.025787</td>\n",
       "      <td>-0.024174</td>\n",
       "      <td>0.005343</td>\n",
       "      <td>-0.028368</td>\n",
       "      <td>0.050734</td>\n",
       "      <td>-0.024844</td>\n",
       "      <td>-0.018948</td>\n",
       "      <td>-0.007746</td>\n",
       "      <td>0.026105</td>\n",
       "    </tr>\n",
       "    <tr>\n",
       "      <td>18842</td>\n",
       "      <td>0.054130</td>\n",
       "      <td>0.039358</td>\n",
       "      <td>-0.001672</td>\n",
       "      <td>0.022946</td>\n",
       "      <td>-0.021731</td>\n",
       "      <td>0.025919</td>\n",
       "      <td>0.002893</td>\n",
       "      <td>-0.016260</td>\n",
       "      <td>-0.005935</td>\n",
       "      <td>-0.039379</td>\n",
       "      <td>0.017367</td>\n",
       "      <td>0.027146</td>\n",
       "      <td>-0.038149</td>\n",
       "      <td>-0.021037</td>\n",
       "      <td>0.028847</td>\n",
       "      <td>-0.003142</td>\n",
       "      <td>-0.022085</td>\n",
       "      <td>0.027204</td>\n",
       "      <td>0.014202</td>\n",
       "      <td>-0.021375</td>\n",
       "    </tr>\n",
       "    <tr>\n",
       "      <td>18843</td>\n",
       "      <td>0.078197</td>\n",
       "      <td>0.017420</td>\n",
       "      <td>0.047475</td>\n",
       "      <td>0.047956</td>\n",
       "      <td>0.011296</td>\n",
       "      <td>0.025871</td>\n",
       "      <td>0.003459</td>\n",
       "      <td>-0.001221</td>\n",
       "      <td>0.055833</td>\n",
       "      <td>-0.008644</td>\n",
       "      <td>0.038445</td>\n",
       "      <td>0.028377</td>\n",
       "      <td>-0.000036</td>\n",
       "      <td>-0.020273</td>\n",
       "      <td>0.011454</td>\n",
       "      <td>0.010616</td>\n",
       "      <td>-0.039397</td>\n",
       "      <td>0.015681</td>\n",
       "      <td>0.002226</td>\n",
       "      <td>-0.004963</td>\n",
       "    </tr>\n",
       "    <tr>\n",
       "      <td>18844</td>\n",
       "      <td>0.126520</td>\n",
       "      <td>-0.037001</td>\n",
       "      <td>-0.041715</td>\n",
       "      <td>0.008802</td>\n",
       "      <td>-0.028140</td>\n",
       "      <td>0.012276</td>\n",
       "      <td>-0.028528</td>\n",
       "      <td>0.005612</td>\n",
       "      <td>-0.036622</td>\n",
       "      <td>-0.000039</td>\n",
       "      <td>-0.015430</td>\n",
       "      <td>0.133241</td>\n",
       "      <td>-0.002292</td>\n",
       "      <td>-0.031928</td>\n",
       "      <td>0.039219</td>\n",
       "      <td>-0.017074</td>\n",
       "      <td>0.026301</td>\n",
       "      <td>-0.018026</td>\n",
       "      <td>0.011752</td>\n",
       "      <td>0.068298</td>\n",
       "    </tr>\n",
       "    <tr>\n",
       "      <td>18845</td>\n",
       "      <td>0.271952</td>\n",
       "      <td>-0.013268</td>\n",
       "      <td>0.043841</td>\n",
       "      <td>0.014564</td>\n",
       "      <td>0.001594</td>\n",
       "      <td>-0.026097</td>\n",
       "      <td>0.099539</td>\n",
       "      <td>-0.045973</td>\n",
       "      <td>0.031862</td>\n",
       "      <td>-0.014328</td>\n",
       "      <td>0.103524</td>\n",
       "      <td>0.077499</td>\n",
       "      <td>0.052594</td>\n",
       "      <td>0.046675</td>\n",
       "      <td>0.040858</td>\n",
       "      <td>0.007430</td>\n",
       "      <td>0.079242</td>\n",
       "      <td>0.049842</td>\n",
       "      <td>-0.011408</td>\n",
       "      <td>-0.026967</td>\n",
       "    </tr>\n",
       "  </tbody>\n",
       "</table>\n",
       "<p>18846 rows × 20 columns</p>\n",
       "</div>"
      ],
      "text/plain": [
       "         Topic0    Topic1    Topic2    Topic3    Topic4    Topic5    Topic6  \\\n",
       "0      0.140775 -0.060377  0.156950 -0.092780 -0.009174  0.021312 -0.112827   \n",
       "1      0.120529  0.173893 -0.002629 -0.027704  0.128370 -0.052883 -0.015604   \n",
       "2      0.171556 -0.104033  0.017275  0.029305 -0.051022  0.002489  0.123772   \n",
       "3      0.109208  0.116833  0.028143  0.141671  0.088034  0.052332 -0.048718   \n",
       "4      0.230053  0.191465  0.010557  0.164757  0.116151  0.037414 -0.022532   \n",
       "...         ...       ...       ...       ...       ...       ...       ...   \n",
       "18841  0.127026 -0.030076  0.006775  0.014545 -0.020246 -0.003980 -0.000770   \n",
       "18842  0.054130  0.039358 -0.001672  0.022946 -0.021731  0.025919  0.002893   \n",
       "18843  0.078197  0.017420  0.047475  0.047956  0.011296  0.025871  0.003459   \n",
       "18844  0.126520 -0.037001 -0.041715  0.008802 -0.028140  0.012276 -0.028528   \n",
       "18845  0.271952 -0.013268  0.043841  0.014564  0.001594 -0.026097  0.099539   \n",
       "\n",
       "         Topic7    Topic8    Topic9   Topic10   Topic11   Topic12   Topic13  \\\n",
       "0      0.023321  0.009652  0.027311 -0.019178 -0.006190 -0.015085  0.020889   \n",
       "1     -0.040175  0.251481 -0.104955 -0.147703  0.018911 -0.038849  0.086671   \n",
       "2      0.058559  0.037512  0.001276 -0.148641 -0.103177 -0.011552  0.067707   \n",
       "3      0.053394  0.075722  0.039281 -0.070911  0.049184 -0.037770  0.020154   \n",
       "4      0.027116  0.004320  0.124060  0.054968  0.013351 -0.027080  0.024013   \n",
       "...         ...       ...       ...       ...       ...       ...       ...   \n",
       "18841 -0.034077 -0.045719 -0.018776 -0.014391  0.025787 -0.024174  0.005343   \n",
       "18842 -0.016260 -0.005935 -0.039379  0.017367  0.027146 -0.038149 -0.021037   \n",
       "18843 -0.001221  0.055833 -0.008644  0.038445  0.028377 -0.000036 -0.020273   \n",
       "18844  0.005612 -0.036622 -0.000039 -0.015430  0.133241 -0.002292 -0.031928   \n",
       "18845 -0.045973  0.031862 -0.014328  0.103524  0.077499  0.052594  0.046675   \n",
       "\n",
       "        Topic14   Topic15   Topic16   Topic17   Topic18   Topic19  \n",
       "0     -0.009980 -0.003694 -0.021449  0.014209 -0.035523  0.017470  \n",
       "1     -0.076892 -0.020678  0.088055 -0.062546  0.031143  0.082653  \n",
       "2      0.107882 -0.028066 -0.106080 -0.070002 -0.053456  0.051747  \n",
       "3     -0.026744  0.033691  0.029130 -0.030531  0.027425  0.116493  \n",
       "4      0.136564  0.014986  0.071564  0.092669 -0.004819  0.035921  \n",
       "...         ...       ...       ...       ...       ...       ...  \n",
       "18841 -0.028368  0.050734 -0.024844 -0.018948 -0.007746  0.026105  \n",
       "18842  0.028847 -0.003142 -0.022085  0.027204  0.014202 -0.021375  \n",
       "18843  0.011454  0.010616 -0.039397  0.015681  0.002226 -0.004963  \n",
       "18844  0.039219 -0.017074  0.026301 -0.018026  0.011752  0.068298  \n",
       "18845  0.040858  0.007430  0.079242  0.049842 -0.011408 -0.026967  \n",
       "\n",
       "[18846 rows x 20 columns]"
      ]
     },
     "execution_count": 256,
     "metadata": {},
     "output_type": "execute_result"
    }
   ],
   "source": [
    "trans_data=pd.DataFrame(trans_data,columns=['Topic{}'.format(c)for c in range(20)])\n",
    "#trans_data.sum(axis=1)\n",
    "trans_data"
   ]
  },
  {
   "cell_type": "markdown",
   "metadata": {},
   "source": [
    "This looks more or less the same.  It doesn't seem to have negatively affected the topics, so I'm just going to keep the max_df in.  It only removed 10 words anyway."
   ]
  },
  {
   "cell_type": "code",
   "execution_count": 156,
   "metadata": {},
   "outputs": [
    {
     "data": {
      "text/plain": [
       "array([27.7237124 , 14.55065094, 11.81253326, 12.13116338, 27.00867961,\n",
       "        6.69645952, 11.43196218,  8.42306054, 10.7740787 ,  8.31411413,\n",
       "       13.45302317, 10.91825536,  9.55930045,  6.57824461, 10.12058309,\n",
       "        6.8588307 ,  6.81559121,  8.96482688,  6.90158106,  5.87475893])"
      ]
     },
     "execution_count": 156,
     "metadata": {},
     "output_type": "execute_result"
    }
   ],
   "source": [
    "((nmf.components_.T)**2).sum(axis=0) #check if vectores normlize or not , SVD normlze while NMF not"
   ]
  },
  {
   "cell_type": "markdown",
   "metadata": {},
   "source": [
    "### 5- Clustering Text Documents"
   ]
  },
  {
   "cell_type": "code",
   "execution_count": 47,
   "metadata": {},
   "outputs": [],
   "source": [
    "number_of_cluster=20 #silhouette analysis funcation on KMeans clustering used to select the best number of cluster\n",
    "\n",
    "k_means=KMeans(n_clusters=number_of_cluster)\n",
    "cluster_model=k_means.fit(trans_data)"
   ]
  },
  {
   "cell_type": "code",
   "execution_count": 48,
   "metadata": {},
   "outputs": [
    {
     "data": {
      "text/plain": [
       "array([ 1, 11, 14, ...,  0,  4, 15], dtype=int32)"
      ]
     },
     "execution_count": 48,
     "metadata": {},
     "output_type": "execute_result"
    }
   ],
   "source": [
    "cluster_model.labels_"
   ]
  },
  {
   "cell_type": "code",
   "execution_count": 50,
   "metadata": {},
   "outputs": [
    {
     "data": {
      "text/plain": [
       "array([13,  8, 17, ..., 10, 19,  0], dtype=int32)"
      ]
     },
     "execution_count": 50,
     "metadata": {},
     "output_type": "execute_result"
    }
   ],
   "source": [
    "cluster_model.fit_predict(trans_data)"
   ]
  },
  {
   "cell_type": "code",
   "execution_count": 292,
   "metadata": {},
   "outputs": [
    {
     "data": {
      "text/plain": [
       "11    4781\n",
       "13    2024\n",
       "3     1896\n",
       "16    1606\n",
       "1      951\n",
       "18     924\n",
       "9      906\n",
       "5      745\n",
       "12     735\n",
       "7      592\n",
       "2      505\n",
       "15     474\n",
       "8      452\n",
       "4      451\n",
       "14     430\n",
       "6      426\n",
       "0      369\n",
       "10     343\n",
       "17     163\n",
       "19      73\n",
       "dtype: int64"
      ]
     },
     "execution_count": 292,
     "metadata": {},
     "output_type": "execute_result"
    }
   ],
   "source": [
    "pd.Series(cluster_model.labels_).value_counts() #check how many documents in each cluster"
   ]
  },
  {
   "cell_type": "code",
   "execution_count": 68,
   "metadata": {},
   "outputs": [
    {
     "name": "stderr",
     "output_type": "stream",
     "text": [
      "/Users/Mony/.local/lib/python3.7/site-packages/umap_learn-0.3.10-py3.7.egg/umap/spectral.py:229: UserWarning: Embedding a total of 20 separate connected components using meta-embedding (experimental)\n",
      "'c' argument looks like a single numeric RGB or RGBA sequence, which should be avoided as value-mapping will have precedence in case its length matches with 'x' & 'y'.  Please use a 2-D array with a single row if you really want to specify the same RGB or RGBA value for all points.\n",
      "'c' argument looks like a single numeric RGB or RGBA sequence, which should be avoided as value-mapping will have precedence in case its length matches with 'x' & 'y'.  Please use a 2-D array with a single row if you really want to specify the same RGB or RGBA value for all points.\n",
      "'c' argument looks like a single numeric RGB or RGBA sequence, which should be avoided as value-mapping will have precedence in case its length matches with 'x' & 'y'.  Please use a 2-D array with a single row if you really want to specify the same RGB or RGBA value for all points.\n",
      "'c' argument looks like a single numeric RGB or RGBA sequence, which should be avoided as value-mapping will have precedence in case its length matches with 'x' & 'y'.  Please use a 2-D array with a single row if you really want to specify the same RGB or RGBA value for all points.\n",
      "'c' argument looks like a single numeric RGB or RGBA sequence, which should be avoided as value-mapping will have precedence in case its length matches with 'x' & 'y'.  Please use a 2-D array with a single row if you really want to specify the same RGB or RGBA value for all points.\n",
      "'c' argument looks like a single numeric RGB or RGBA sequence, which should be avoided as value-mapping will have precedence in case its length matches with 'x' & 'y'.  Please use a 2-D array with a single row if you really want to specify the same RGB or RGBA value for all points.\n",
      "'c' argument looks like a single numeric RGB or RGBA sequence, which should be avoided as value-mapping will have precedence in case its length matches with 'x' & 'y'.  Please use a 2-D array with a single row if you really want to specify the same RGB or RGBA value for all points.\n",
      "'c' argument looks like a single numeric RGB or RGBA sequence, which should be avoided as value-mapping will have precedence in case its length matches with 'x' & 'y'.  Please use a 2-D array with a single row if you really want to specify the same RGB or RGBA value for all points.\n",
      "'c' argument looks like a single numeric RGB or RGBA sequence, which should be avoided as value-mapping will have precedence in case its length matches with 'x' & 'y'.  Please use a 2-D array with a single row if you really want to specify the same RGB or RGBA value for all points.\n",
      "'c' argument looks like a single numeric RGB or RGBA sequence, which should be avoided as value-mapping will have precedence in case its length matches with 'x' & 'y'.  Please use a 2-D array with a single row if you really want to specify the same RGB or RGBA value for all points.\n",
      "'c' argument looks like a single numeric RGB or RGBA sequence, which should be avoided as value-mapping will have precedence in case its length matches with 'x' & 'y'.  Please use a 2-D array with a single row if you really want to specify the same RGB or RGBA value for all points.\n",
      "'c' argument looks like a single numeric RGB or RGBA sequence, which should be avoided as value-mapping will have precedence in case its length matches with 'x' & 'y'.  Please use a 2-D array with a single row if you really want to specify the same RGB or RGBA value for all points.\n",
      "'c' argument looks like a single numeric RGB or RGBA sequence, which should be avoided as value-mapping will have precedence in case its length matches with 'x' & 'y'.  Please use a 2-D array with a single row if you really want to specify the same RGB or RGBA value for all points.\n",
      "'c' argument looks like a single numeric RGB or RGBA sequence, which should be avoided as value-mapping will have precedence in case its length matches with 'x' & 'y'.  Please use a 2-D array with a single row if you really want to specify the same RGB or RGBA value for all points.\n",
      "'c' argument looks like a single numeric RGB or RGBA sequence, which should be avoided as value-mapping will have precedence in case its length matches with 'x' & 'y'.  Please use a 2-D array with a single row if you really want to specify the same RGB or RGBA value for all points.\n",
      "'c' argument looks like a single numeric RGB or RGBA sequence, which should be avoided as value-mapping will have precedence in case its length matches with 'x' & 'y'.  Please use a 2-D array with a single row if you really want to specify the same RGB or RGBA value for all points.\n",
      "'c' argument looks like a single numeric RGB or RGBA sequence, which should be avoided as value-mapping will have precedence in case its length matches with 'x' & 'y'.  Please use a 2-D array with a single row if you really want to specify the same RGB or RGBA value for all points.\n",
      "'c' argument looks like a single numeric RGB or RGBA sequence, which should be avoided as value-mapping will have precedence in case its length matches with 'x' & 'y'.  Please use a 2-D array with a single row if you really want to specify the same RGB or RGBA value for all points.\n",
      "'c' argument looks like a single numeric RGB or RGBA sequence, which should be avoided as value-mapping will have precedence in case its length matches with 'x' & 'y'.  Please use a 2-D array with a single row if you really want to specify the same RGB or RGBA value for all points.\n",
      "'c' argument looks like a single numeric RGB or RGBA sequence, which should be avoided as value-mapping will have precedence in case its length matches with 'x' & 'y'.  Please use a 2-D array with a single row if you really want to specify the same RGB or RGBA value for all points.\n"
     ]
    },
    {
     "data": {
      "image/png": "[encoded data removed]",
      "text/plain": [
       "<Figure size 432x288 with 1 Axes>"
      ]
     },
     "metadata": {},
     "output_type": "display_data"
    },
    {
     "data": {
      "text/plain": [
       "<matplotlib.axes._subplots.AxesSubplot at 0x1c40bfdc50>"
      ]
     },
     "execution_count": 68,
     "metadata": {},
     "output_type": "execute_result"
    }
   ],
   "source": [
    "cliuster_umap=UMAPVisualizer().fit(trans_data,[\"c{}\".format(c)for c in cluster_model.labels_])\n",
    "cliuster_umap.show()"
   ]
  },
  {
   "cell_type": "code",
   "execution_count": 293,
   "metadata": {},
   "outputs": [],
   "source": [
    "# #print top word in each cluster\n",
    "# order_centroids = cluster_model.cluster_centers_.argsort()[:, ::-1]\n",
    "# terms = tfidf_vector.get_feature_names()\n",
    "# for i in range(number_of_cluster):\n",
    "#     print(\"Cluster %d:\" % i),\n",
    "#     for ind in order_centroids[i, :10]:\n",
    "#         print(' %s' % terms[ind])"
   ]
  },
  {
   "cell_type": "markdown",
   "metadata": {},
   "source": [
    "### 5.1 Compared against Baseline:"
   ]
  },
  {
   "cell_type": "code",
   "execution_count": 69,
   "metadata": {},
   "outputs": [
    {
     "name": "stderr",
     "output_type": "stream",
     "text": [
      "'c' argument looks like a single numeric RGB or RGBA sequence, which should be avoided as value-mapping will have precedence in case its length matches with 'x' & 'y'.  Please use a 2-D array with a single row if you really want to specify the same RGB or RGBA value for all points.\n",
      "'c' argument looks like a single numeric RGB or RGBA sequence, which should be avoided as value-mapping will have precedence in case its length matches with 'x' & 'y'.  Please use a 2-D array with a single row if you really want to specify the same RGB or RGBA value for all points.\n",
      "'c' argument looks like a single numeric RGB or RGBA sequence, which should be avoided as value-mapping will have precedence in case its length matches with 'x' & 'y'.  Please use a 2-D array with a single row if you really want to specify the same RGB or RGBA value for all points.\n",
      "'c' argument looks like a single numeric RGB or RGBA sequence, which should be avoided as value-mapping will have precedence in case its length matches with 'x' & 'y'.  Please use a 2-D array with a single row if you really want to specify the same RGB or RGBA value for all points.\n",
      "'c' argument looks like a single numeric RGB or RGBA sequence, which should be avoided as value-mapping will have precedence in case its length matches with 'x' & 'y'.  Please use a 2-D array with a single row if you really want to specify the same RGB or RGBA value for all points.\n",
      "'c' argument looks like a single numeric RGB or RGBA sequence, which should be avoided as value-mapping will have precedence in case its length matches with 'x' & 'y'.  Please use a 2-D array with a single row if you really want to specify the same RGB or RGBA value for all points.\n",
      "'c' argument looks like a single numeric RGB or RGBA sequence, which should be avoided as value-mapping will have precedence in case its length matches with 'x' & 'y'.  Please use a 2-D array with a single row if you really want to specify the same RGB or RGBA value for all points.\n",
      "'c' argument looks like a single numeric RGB or RGBA sequence, which should be avoided as value-mapping will have precedence in case its length matches with 'x' & 'y'.  Please use a 2-D array with a single row if you really want to specify the same RGB or RGBA value for all points.\n",
      "'c' argument looks like a single numeric RGB or RGBA sequence, which should be avoided as value-mapping will have precedence in case its length matches with 'x' & 'y'.  Please use a 2-D array with a single row if you really want to specify the same RGB or RGBA value for all points.\n",
      "'c' argument looks like a single numeric RGB or RGBA sequence, which should be avoided as value-mapping will have precedence in case its length matches with 'x' & 'y'.  Please use a 2-D array with a single row if you really want to specify the same RGB or RGBA value for all points.\n",
      "'c' argument looks like a single numeric RGB or RGBA sequence, which should be avoided as value-mapping will have precedence in case its length matches with 'x' & 'y'.  Please use a 2-D array with a single row if you really want to specify the same RGB or RGBA value for all points.\n",
      "'c' argument looks like a single numeric RGB or RGBA sequence, which should be avoided as value-mapping will have precedence in case its length matches with 'x' & 'y'.  Please use a 2-D array with a single row if you really want to specify the same RGB or RGBA value for all points.\n",
      "'c' argument looks like a single numeric RGB or RGBA sequence, which should be avoided as value-mapping will have precedence in case its length matches with 'x' & 'y'.  Please use a 2-D array with a single row if you really want to specify the same RGB or RGBA value for all points.\n",
      "'c' argument looks like a single numeric RGB or RGBA sequence, which should be avoided as value-mapping will have precedence in case its length matches with 'x' & 'y'.  Please use a 2-D array with a single row if you really want to specify the same RGB or RGBA value for all points.\n",
      "'c' argument looks like a single numeric RGB or RGBA sequence, which should be avoided as value-mapping will have precedence in case its length matches with 'x' & 'y'.  Please use a 2-D array with a single row if you really want to specify the same RGB or RGBA value for all points.\n",
      "'c' argument looks like a single numeric RGB or RGBA sequence, which should be avoided as value-mapping will have precedence in case its length matches with 'x' & 'y'.  Please use a 2-D array with a single row if you really want to specify the same RGB or RGBA value for all points.\n",
      "'c' argument looks like a single numeric RGB or RGBA sequence, which should be avoided as value-mapping will have precedence in case its length matches with 'x' & 'y'.  Please use a 2-D array with a single row if you really want to specify the same RGB or RGBA value for all points.\n",
      "'c' argument looks like a single numeric RGB or RGBA sequence, which should be avoided as value-mapping will have precedence in case its length matches with 'x' & 'y'.  Please use a 2-D array with a single row if you really want to specify the same RGB or RGBA value for all points.\n",
      "'c' argument looks like a single numeric RGB or RGBA sequence, which should be avoided as value-mapping will have precedence in case its length matches with 'x' & 'y'.  Please use a 2-D array with a single row if you really want to specify the same RGB or RGBA value for all points.\n",
      "'c' argument looks like a single numeric RGB or RGBA sequence, which should be avoided as value-mapping will have precedence in case its length matches with 'x' & 'y'.  Please use a 2-D array with a single row if you really want to specify the same RGB or RGBA value for all points.\n"
     ]
    },
    {
     "data": {
      "image/png": "[encoded data removed]",
      "text/plain": [
       "<Figure size 432x288 with 1 Axes>"
      ]
     },
     "metadata": {},
     "output_type": "display_data"
    },
    {
     "data": {
      "text/plain": [
       "<matplotlib.axes._subplots.AxesSubplot at 0x1c408f6e50>"
      ]
     },
     "execution_count": 69,
     "metadata": {},
     "output_type": "execute_result"
    }
   ],
   "source": [
    "number_of_cluster=20\n",
    "k_means=KMeans(n_clusters=number_of_cluster)\n",
    "# replacing trans_data with baseline_trans_data\n",
    "cluster_model=k_means.fit(baseline_trans_data)\n",
    "# same here\n",
    "cliuster_umap=UMAPVisualizer().fit(baseline_trans_data,[\"c{}\".format(c)for c in cluster_model.labels_])\n",
    "cliuster_umap.show()"
   ]
  },
  {
   "cell_type": "markdown",
   "metadata": {},
   "source": [
    "So the previous version with NMF looks a little more distinct.  "
   ]
  },
  {
   "cell_type": "markdown",
   "metadata": {},
   "source": [
    "So, we must go iteratively trying to get more distinct clusters - change one aspect of the inputs at a time (number of features) , explore the results, see if it helped or hurt.  Also, measuring such as silhouette scores could be used."
   ]
  },
  {
   "cell_type": "markdown",
   "metadata": {},
   "source": [
    "### 5.2 Let’s Inspect The Results of Clustering . What Is Each Cluster Talking About? \n"
   ]
  },
  {
   "cell_type": "code",
   "execution_count": 257,
   "metadata": {},
   "outputs": [],
   "source": [
    "trans_data['Cluster_lable']=cluster_model.labels_"
   ]
  },
  {
   "cell_type": "code",
   "execution_count": 261,
   "metadata": {},
   "outputs": [
    {
     "data": {
      "text/plain": [
       "Index(['Topic0', 'Topic1', 'Topic2', 'Topic3', 'Topic4', 'Topic5', 'Topic6',\n",
       "       'Topic7', 'Topic8', 'Topic9', 'Topic10', 'Topic11', 'Topic12',\n",
       "       'Topic13', 'Topic14', 'Topic15', 'Topic16', 'Topic17', 'Topic18',\n",
       "       'Topic19', 'Cluster_lable'],\n",
       "      dtype='object')"
      ]
     },
     "execution_count": 261,
     "metadata": {},
     "output_type": "execute_result"
    }
   ],
   "source": [
    "trans_data.columns"
   ]
  },
  {
   "cell_type": "code",
   "execution_count": 122,
   "metadata": {},
   "outputs": [],
   "source": [
    "df_mean=trans_data.groupby(trans_data.Cluster_lable).mean()"
   ]
  },
  {
   "cell_type": "code",
   "execution_count": 161,
   "metadata": {},
   "outputs": [
    {
     "data": {
      "text/html": [
       "<div>\n",
       "<style scoped>\n",
       "    .dataframe tbody tr th:only-of-type {\n",
       "        vertical-align: middle;\n",
       "    }\n",
       "\n",
       "    .dataframe tbody tr th {\n",
       "        vertical-align: top;\n",
       "    }\n",
       "\n",
       "    .dataframe thead th {\n",
       "        text-align: right;\n",
       "    }\n",
       "</style>\n",
       "<table border=\"1\" class=\"dataframe\">\n",
       "  <thead>\n",
       "    <tr style=\"text-align: right;\">\n",
       "      <th></th>\n",
       "      <th>Topic0</th>\n",
       "      <th>Topic1</th>\n",
       "      <th>Topic2</th>\n",
       "      <th>Topic3</th>\n",
       "      <th>Topic4</th>\n",
       "      <th>Topic5</th>\n",
       "      <th>Topic6</th>\n",
       "      <th>Topic7</th>\n",
       "      <th>Topic8</th>\n",
       "      <th>Topic9</th>\n",
       "      <th>Topic10</th>\n",
       "      <th>Topic11</th>\n",
       "      <th>Topic12</th>\n",
       "      <th>Topic13</th>\n",
       "      <th>Topic14</th>\n",
       "      <th>Topic15</th>\n",
       "      <th>Topic16</th>\n",
       "      <th>Topic17</th>\n",
       "      <th>Topic18</th>\n",
       "      <th>Topic19</th>\n",
       "    </tr>\n",
       "    <tr>\n",
       "      <th>Cluster_lable</th>\n",
       "      <th></th>\n",
       "      <th></th>\n",
       "      <th></th>\n",
       "      <th></th>\n",
       "      <th></th>\n",
       "      <th></th>\n",
       "      <th></th>\n",
       "      <th></th>\n",
       "      <th></th>\n",
       "      <th></th>\n",
       "      <th></th>\n",
       "      <th></th>\n",
       "      <th></th>\n",
       "      <th></th>\n",
       "      <th></th>\n",
       "      <th></th>\n",
       "      <th></th>\n",
       "      <th></th>\n",
       "      <th></th>\n",
       "      <th></th>\n",
       "    </tr>\n",
       "  </thead>\n",
       "  <tbody>\n",
       "    <tr>\n",
       "      <td>0</td>\n",
       "      <td>0.014561</td>\n",
       "      <td>0.003370</td>\n",
       "      <td>0.002206</td>\n",
       "      <td>0.001020</td>\n",
       "      <td>0.001701</td>\n",
       "      <td>0.003339</td>\n",
       "      <td>0.004304</td>\n",
       "      <td>0.000996</td>\n",
       "      <td>0.002993</td>\n",
       "      <td>0.003022</td>\n",
       "      <td>0.000565</td>\n",
       "      <td>0.003162</td>\n",
       "      <td>0.000845</td>\n",
       "      <td>0.001410</td>\n",
       "      <td>0.003310</td>\n",
       "      <td>0.000769</td>\n",
       "      <td>0.066003</td>\n",
       "      <td>0.002822</td>\n",
       "      <td>0.006306</td>\n",
       "      <td>0.001037</td>\n",
       "    </tr>\n",
       "    <tr>\n",
       "      <td>1</td>\n",
       "      <td>0.005619</td>\n",
       "      <td>0.005461</td>\n",
       "      <td>0.001331</td>\n",
       "      <td>0.005308</td>\n",
       "      <td>0.000674</td>\n",
       "      <td>0.005392</td>\n",
       "      <td>0.001420</td>\n",
       "      <td>0.000795</td>\n",
       "      <td>0.000776</td>\n",
       "      <td>0.009440</td>\n",
       "      <td>0.001882</td>\n",
       "      <td>0.000556</td>\n",
       "      <td>0.001961</td>\n",
       "      <td>0.001159</td>\n",
       "      <td>0.005409</td>\n",
       "      <td>0.000866</td>\n",
       "      <td>0.002935</td>\n",
       "      <td>0.077173</td>\n",
       "      <td>0.004192</td>\n",
       "      <td>0.001210</td>\n",
       "    </tr>\n",
       "    <tr>\n",
       "      <td>2</td>\n",
       "      <td>0.005041</td>\n",
       "      <td>0.002109</td>\n",
       "      <td>0.002545</td>\n",
       "      <td>0.000728</td>\n",
       "      <td>0.001369</td>\n",
       "      <td>0.003499</td>\n",
       "      <td>0.001360</td>\n",
       "      <td>0.001149</td>\n",
       "      <td>0.001452</td>\n",
       "      <td>0.002922</td>\n",
       "      <td>0.000682</td>\n",
       "      <td>0.001440</td>\n",
       "      <td>0.000823</td>\n",
       "      <td>0.001861</td>\n",
       "      <td>0.002100</td>\n",
       "      <td>0.002018</td>\n",
       "      <td>0.004174</td>\n",
       "      <td>0.002309</td>\n",
       "      <td>0.006439</td>\n",
       "      <td>0.001288</td>\n",
       "    </tr>\n",
       "    <tr>\n",
       "      <td>3</td>\n",
       "      <td>0.003897</td>\n",
       "      <td>0.010220</td>\n",
       "      <td>0.001447</td>\n",
       "      <td>0.004602</td>\n",
       "      <td>0.000602</td>\n",
       "      <td>0.009321</td>\n",
       "      <td>0.002246</td>\n",
       "      <td>0.004375</td>\n",
       "      <td>0.000284</td>\n",
       "      <td>0.007625</td>\n",
       "      <td>0.010007</td>\n",
       "      <td>0.000334</td>\n",
       "      <td>0.085335</td>\n",
       "      <td>0.001789</td>\n",
       "      <td>0.013433</td>\n",
       "      <td>0.014007</td>\n",
       "      <td>0.000858</td>\n",
       "      <td>0.001204</td>\n",
       "      <td>0.004491</td>\n",
       "      <td>0.027107</td>\n",
       "    </tr>\n",
       "    <tr>\n",
       "      <td>4</td>\n",
       "      <td>0.024481</td>\n",
       "      <td>0.003213</td>\n",
       "      <td>0.001434</td>\n",
       "      <td>0.000494</td>\n",
       "      <td>0.014285</td>\n",
       "      <td>0.006214</td>\n",
       "      <td>0.001055</td>\n",
       "      <td>0.001086</td>\n",
       "      <td>0.004529</td>\n",
       "      <td>0.002523</td>\n",
       "      <td>0.000412</td>\n",
       "      <td>0.003118</td>\n",
       "      <td>0.000371</td>\n",
       "      <td>0.001233</td>\n",
       "      <td>0.003925</td>\n",
       "      <td>0.000567</td>\n",
       "      <td>0.005717</td>\n",
       "      <td>0.000549</td>\n",
       "      <td>0.008600</td>\n",
       "      <td>0.000893</td>\n",
       "    </tr>\n",
       "    <tr>\n",
       "      <td>5</td>\n",
       "      <td>0.006159</td>\n",
       "      <td>0.015710</td>\n",
       "      <td>0.001666</td>\n",
       "      <td>0.002428</td>\n",
       "      <td>0.000617</td>\n",
       "      <td>0.005050</td>\n",
       "      <td>0.004058</td>\n",
       "      <td>0.005449</td>\n",
       "      <td>0.000579</td>\n",
       "      <td>0.003780</td>\n",
       "      <td>0.005526</td>\n",
       "      <td>0.000605</td>\n",
       "      <td>0.003239</td>\n",
       "      <td>0.001467</td>\n",
       "      <td>0.006505</td>\n",
       "      <td>0.010417</td>\n",
       "      <td>0.001825</td>\n",
       "      <td>0.002239</td>\n",
       "      <td>0.026556</td>\n",
       "      <td>0.014498</td>\n",
       "    </tr>\n",
       "    <tr>\n",
       "      <td>6</td>\n",
       "      <td>0.004671</td>\n",
       "      <td>0.012231</td>\n",
       "      <td>0.001382</td>\n",
       "      <td>0.089923</td>\n",
       "      <td>0.000431</td>\n",
       "      <td>0.007719</td>\n",
       "      <td>0.001821</td>\n",
       "      <td>0.005086</td>\n",
       "      <td>0.000392</td>\n",
       "      <td>0.010795</td>\n",
       "      <td>0.002984</td>\n",
       "      <td>0.000462</td>\n",
       "      <td>0.010373</td>\n",
       "      <td>0.001076</td>\n",
       "      <td>0.009280</td>\n",
       "      <td>0.012575</td>\n",
       "      <td>0.001526</td>\n",
       "      <td>0.002108</td>\n",
       "      <td>0.004247</td>\n",
       "      <td>0.005015</td>\n",
       "    </tr>\n",
       "    <tr>\n",
       "      <td>7</td>\n",
       "      <td>0.009143</td>\n",
       "      <td>0.003489</td>\n",
       "      <td>0.001084</td>\n",
       "      <td>0.000854</td>\n",
       "      <td>0.000623</td>\n",
       "      <td>0.005006</td>\n",
       "      <td>0.094705</td>\n",
       "      <td>0.003943</td>\n",
       "      <td>0.001035</td>\n",
       "      <td>0.003350</td>\n",
       "      <td>0.001093</td>\n",
       "      <td>0.000778</td>\n",
       "      <td>0.000760</td>\n",
       "      <td>0.001175</td>\n",
       "      <td>0.003920</td>\n",
       "      <td>0.004257</td>\n",
       "      <td>0.010865</td>\n",
       "      <td>0.001825</td>\n",
       "      <td>0.007686</td>\n",
       "      <td>0.001740</td>\n",
       "    </tr>\n",
       "    <tr>\n",
       "      <td>8</td>\n",
       "      <td>0.013765</td>\n",
       "      <td>0.002524</td>\n",
       "      <td>0.001791</td>\n",
       "      <td>0.000447</td>\n",
       "      <td>0.058313</td>\n",
       "      <td>0.003025</td>\n",
       "      <td>0.000659</td>\n",
       "      <td>0.000748</td>\n",
       "      <td>0.001882</td>\n",
       "      <td>0.002007</td>\n",
       "      <td>0.000265</td>\n",
       "      <td>0.001571</td>\n",
       "      <td>0.000245</td>\n",
       "      <td>0.001189</td>\n",
       "      <td>0.004486</td>\n",
       "      <td>0.000396</td>\n",
       "      <td>0.004105</td>\n",
       "      <td>0.001308</td>\n",
       "      <td>0.003165</td>\n",
       "      <td>0.000800</td>\n",
       "    </tr>\n",
       "    <tr>\n",
       "      <td>9</td>\n",
       "      <td>0.005539</td>\n",
       "      <td>0.012972</td>\n",
       "      <td>0.001466</td>\n",
       "      <td>0.002284</td>\n",
       "      <td>0.000607</td>\n",
       "      <td>0.007899</td>\n",
       "      <td>0.001954</td>\n",
       "      <td>0.010264</td>\n",
       "      <td>0.000515</td>\n",
       "      <td>0.003507</td>\n",
       "      <td>0.074325</td>\n",
       "      <td>0.000327</td>\n",
       "      <td>0.005538</td>\n",
       "      <td>0.001142</td>\n",
       "      <td>0.012796</td>\n",
       "      <td>0.007931</td>\n",
       "      <td>0.001155</td>\n",
       "      <td>0.001126</td>\n",
       "      <td>0.008155</td>\n",
       "      <td>0.006041</td>\n",
       "    </tr>\n",
       "    <tr>\n",
       "      <td>10</td>\n",
       "      <td>0.010403</td>\n",
       "      <td>0.003512</td>\n",
       "      <td>0.041501</td>\n",
       "      <td>0.000833</td>\n",
       "      <td>0.002112</td>\n",
       "      <td>0.002917</td>\n",
       "      <td>0.000857</td>\n",
       "      <td>0.000508</td>\n",
       "      <td>0.001166</td>\n",
       "      <td>0.003594</td>\n",
       "      <td>0.000669</td>\n",
       "      <td>0.001930</td>\n",
       "      <td>0.000735</td>\n",
       "      <td>0.001351</td>\n",
       "      <td>0.004649</td>\n",
       "      <td>0.000535</td>\n",
       "      <td>0.003939</td>\n",
       "      <td>0.003065</td>\n",
       "      <td>0.004234</td>\n",
       "      <td>0.000859</td>\n",
       "    </tr>\n",
       "    <tr>\n",
       "      <td>11</td>\n",
       "      <td>0.003349</td>\n",
       "      <td>0.003859</td>\n",
       "      <td>0.002978</td>\n",
       "      <td>0.005175</td>\n",
       "      <td>0.000487</td>\n",
       "      <td>0.012071</td>\n",
       "      <td>0.002049</td>\n",
       "      <td>0.002165</td>\n",
       "      <td>0.000454</td>\n",
       "      <td>0.045513</td>\n",
       "      <td>0.002517</td>\n",
       "      <td>0.000641</td>\n",
       "      <td>0.004837</td>\n",
       "      <td>0.002021</td>\n",
       "      <td>0.003955</td>\n",
       "      <td>0.024575</td>\n",
       "      <td>0.001680</td>\n",
       "      <td>0.004120</td>\n",
       "      <td>0.007239</td>\n",
       "      <td>0.011164</td>\n",
       "    </tr>\n",
       "    <tr>\n",
       "      <td>12</td>\n",
       "      <td>0.003941</td>\n",
       "      <td>0.007484</td>\n",
       "      <td>0.001567</td>\n",
       "      <td>0.003191</td>\n",
       "      <td>0.000519</td>\n",
       "      <td>0.010403</td>\n",
       "      <td>0.001950</td>\n",
       "      <td>0.091051</td>\n",
       "      <td>0.000342</td>\n",
       "      <td>0.003022</td>\n",
       "      <td>0.013805</td>\n",
       "      <td>0.000346</td>\n",
       "      <td>0.003269</td>\n",
       "      <td>0.002743</td>\n",
       "      <td>0.010359</td>\n",
       "      <td>0.005957</td>\n",
       "      <td>0.001105</td>\n",
       "      <td>0.000774</td>\n",
       "      <td>0.013940</td>\n",
       "      <td>0.013189</td>\n",
       "    </tr>\n",
       "    <tr>\n",
       "      <td>13</td>\n",
       "      <td>0.006860</td>\n",
       "      <td>0.002310</td>\n",
       "      <td>0.002119</td>\n",
       "      <td>0.000485</td>\n",
       "      <td>0.001749</td>\n",
       "      <td>0.001946</td>\n",
       "      <td>0.000749</td>\n",
       "      <td>0.001196</td>\n",
       "      <td>0.004776</td>\n",
       "      <td>0.001528</td>\n",
       "      <td>0.000632</td>\n",
       "      <td>0.129395</td>\n",
       "      <td>0.000402</td>\n",
       "      <td>0.000734</td>\n",
       "      <td>0.001570</td>\n",
       "      <td>0.000314</td>\n",
       "      <td>0.008148</td>\n",
       "      <td>0.003229</td>\n",
       "      <td>0.003909</td>\n",
       "      <td>0.000496</td>\n",
       "    </tr>\n",
       "    <tr>\n",
       "      <td>14</td>\n",
       "      <td>0.005886</td>\n",
       "      <td>0.003141</td>\n",
       "      <td>0.000989</td>\n",
       "      <td>0.000391</td>\n",
       "      <td>0.000686</td>\n",
       "      <td>0.000171</td>\n",
       "      <td>0.000580</td>\n",
       "      <td>0.000028</td>\n",
       "      <td>0.000719</td>\n",
       "      <td>0.001130</td>\n",
       "      <td>0.000230</td>\n",
       "      <td>0.000732</td>\n",
       "      <td>0.000462</td>\n",
       "      <td>0.245989</td>\n",
       "      <td>0.002973</td>\n",
       "      <td>0.000223</td>\n",
       "      <td>0.002339</td>\n",
       "      <td>0.000786</td>\n",
       "      <td>0.002036</td>\n",
       "      <td>0.000925</td>\n",
       "    </tr>\n",
       "    <tr>\n",
       "      <td>15</td>\n",
       "      <td>0.004041</td>\n",
       "      <td>0.004687</td>\n",
       "      <td>0.002148</td>\n",
       "      <td>0.002140</td>\n",
       "      <td>0.001109</td>\n",
       "      <td>0.010474</td>\n",
       "      <td>0.002546</td>\n",
       "      <td>0.003816</td>\n",
       "      <td>0.000712</td>\n",
       "      <td>0.005656</td>\n",
       "      <td>0.002444</td>\n",
       "      <td>0.000576</td>\n",
       "      <td>0.003455</td>\n",
       "      <td>0.001442</td>\n",
       "      <td>0.055277</td>\n",
       "      <td>0.010396</td>\n",
       "      <td>0.001448</td>\n",
       "      <td>0.002600</td>\n",
       "      <td>0.009244</td>\n",
       "      <td>0.005288</td>\n",
       "    </tr>\n",
       "    <tr>\n",
       "      <td>16</td>\n",
       "      <td>0.017246</td>\n",
       "      <td>0.005543</td>\n",
       "      <td>0.003689</td>\n",
       "      <td>0.001793</td>\n",
       "      <td>0.000833</td>\n",
       "      <td>0.003363</td>\n",
       "      <td>0.002432</td>\n",
       "      <td>0.000969</td>\n",
       "      <td>0.001100</td>\n",
       "      <td>0.005390</td>\n",
       "      <td>0.000785</td>\n",
       "      <td>0.001706</td>\n",
       "      <td>0.000950</td>\n",
       "      <td>0.001670</td>\n",
       "      <td>0.004037</td>\n",
       "      <td>0.002389</td>\n",
       "      <td>0.005435</td>\n",
       "      <td>0.012475</td>\n",
       "      <td>0.009841</td>\n",
       "      <td>0.001608</td>\n",
       "    </tr>\n",
       "    <tr>\n",
       "      <td>17</td>\n",
       "      <td>0.004276</td>\n",
       "      <td>0.003190</td>\n",
       "      <td>0.002781</td>\n",
       "      <td>0.001392</td>\n",
       "      <td>0.001129</td>\n",
       "      <td>0.071980</td>\n",
       "      <td>0.002102</td>\n",
       "      <td>0.004583</td>\n",
       "      <td>0.000517</td>\n",
       "      <td>0.006977</td>\n",
       "      <td>0.002887</td>\n",
       "      <td>0.000797</td>\n",
       "      <td>0.002000</td>\n",
       "      <td>0.004372</td>\n",
       "      <td>0.017912</td>\n",
       "      <td>0.005226</td>\n",
       "      <td>0.001783</td>\n",
       "      <td>0.002023</td>\n",
       "      <td>0.011353</td>\n",
       "      <td>0.004313</td>\n",
       "    </tr>\n",
       "    <tr>\n",
       "      <td>18</td>\n",
       "      <td>0.006521</td>\n",
       "      <td>0.002625</td>\n",
       "      <td>0.082271</td>\n",
       "      <td>0.000777</td>\n",
       "      <td>0.000590</td>\n",
       "      <td>0.004123</td>\n",
       "      <td>0.000997</td>\n",
       "      <td>0.000753</td>\n",
       "      <td>0.000338</td>\n",
       "      <td>0.004164</td>\n",
       "      <td>0.000757</td>\n",
       "      <td>0.000355</td>\n",
       "      <td>0.000996</td>\n",
       "      <td>0.001078</td>\n",
       "      <td>0.003945</td>\n",
       "      <td>0.001021</td>\n",
       "      <td>0.001319</td>\n",
       "      <td>0.000970</td>\n",
       "      <td>0.001606</td>\n",
       "      <td>0.000997</td>\n",
       "    </tr>\n",
       "    <tr>\n",
       "      <td>19</td>\n",
       "      <td>0.008850</td>\n",
       "      <td>0.002581</td>\n",
       "      <td>0.002065</td>\n",
       "      <td>0.000878</td>\n",
       "      <td>0.001923</td>\n",
       "      <td>0.003169</td>\n",
       "      <td>0.001259</td>\n",
       "      <td>0.000594</td>\n",
       "      <td>0.078734</td>\n",
       "      <td>0.002437</td>\n",
       "      <td>0.000248</td>\n",
       "      <td>0.007737</td>\n",
       "      <td>0.000706</td>\n",
       "      <td>0.001690</td>\n",
       "      <td>0.002945</td>\n",
       "      <td>0.000502</td>\n",
       "      <td>0.007196</td>\n",
       "      <td>0.001561</td>\n",
       "      <td>0.003649</td>\n",
       "      <td>0.000948</td>\n",
       "    </tr>\n",
       "  </tbody>\n",
       "</table>\n",
       "</div>"
      ],
      "text/plain": [
       "                 Topic0    Topic1    Topic2    Topic3    Topic4    Topic5  \\\n",
       "Cluster_lable                                                               \n",
       "0              0.014561  0.003370  0.002206  0.001020  0.001701  0.003339   \n",
       "1              0.005619  0.005461  0.001331  0.005308  0.000674  0.005392   \n",
       "2              0.005041  0.002109  0.002545  0.000728  0.001369  0.003499   \n",
       "3              0.003897  0.010220  0.001447  0.004602  0.000602  0.009321   \n",
       "4              0.024481  0.003213  0.001434  0.000494  0.014285  0.006214   \n",
       "5              0.006159  0.015710  0.001666  0.002428  0.000617  0.005050   \n",
       "6              0.004671  0.012231  0.001382  0.089923  0.000431  0.007719   \n",
       "7              0.009143  0.003489  0.001084  0.000854  0.000623  0.005006   \n",
       "8              0.013765  0.002524  0.001791  0.000447  0.058313  0.003025   \n",
       "9              0.005539  0.012972  0.001466  0.002284  0.000607  0.007899   \n",
       "10             0.010403  0.003512  0.041501  0.000833  0.002112  0.002917   \n",
       "11             0.003349  0.003859  0.002978  0.005175  0.000487  0.012071   \n",
       "12             0.003941  0.007484  0.001567  0.003191  0.000519  0.010403   \n",
       "13             0.006860  0.002310  0.002119  0.000485  0.001749  0.001946   \n",
       "14             0.005886  0.003141  0.000989  0.000391  0.000686  0.000171   \n",
       "15             0.004041  0.004687  0.002148  0.002140  0.001109  0.010474   \n",
       "16             0.017246  0.005543  0.003689  0.001793  0.000833  0.003363   \n",
       "17             0.004276  0.003190  0.002781  0.001392  0.001129  0.071980   \n",
       "18             0.006521  0.002625  0.082271  0.000777  0.000590  0.004123   \n",
       "19             0.008850  0.002581  0.002065  0.000878  0.001923  0.003169   \n",
       "\n",
       "                 Topic6    Topic7    Topic8    Topic9   Topic10   Topic11  \\\n",
       "Cluster_lable                                                               \n",
       "0              0.004304  0.000996  0.002993  0.003022  0.000565  0.003162   \n",
       "1              0.001420  0.000795  0.000776  0.009440  0.001882  0.000556   \n",
       "2              0.001360  0.001149  0.001452  0.002922  0.000682  0.001440   \n",
       "3              0.002246  0.004375  0.000284  0.007625  0.010007  0.000334   \n",
       "4              0.001055  0.001086  0.004529  0.002523  0.000412  0.003118   \n",
       "5              0.004058  0.005449  0.000579  0.003780  0.005526  0.000605   \n",
       "6              0.001821  0.005086  0.000392  0.010795  0.002984  0.000462   \n",
       "7              0.094705  0.003943  0.001035  0.003350  0.001093  0.000778   \n",
       "8              0.000659  0.000748  0.001882  0.002007  0.000265  0.001571   \n",
       "9              0.001954  0.010264  0.000515  0.003507  0.074325  0.000327   \n",
       "10             0.000857  0.000508  0.001166  0.003594  0.000669  0.001930   \n",
       "11             0.002049  0.002165  0.000454  0.045513  0.002517  0.000641   \n",
       "12             0.001950  0.091051  0.000342  0.003022  0.013805  0.000346   \n",
       "13             0.000749  0.001196  0.004776  0.001528  0.000632  0.129395   \n",
       "14             0.000580  0.000028  0.000719  0.001130  0.000230  0.000732   \n",
       "15             0.002546  0.003816  0.000712  0.005656  0.002444  0.000576   \n",
       "16             0.002432  0.000969  0.001100  0.005390  0.000785  0.001706   \n",
       "17             0.002102  0.004583  0.000517  0.006977  0.002887  0.000797   \n",
       "18             0.000997  0.000753  0.000338  0.004164  0.000757  0.000355   \n",
       "19             0.001259  0.000594  0.078734  0.002437  0.000248  0.007737   \n",
       "\n",
       "                Topic12   Topic13   Topic14   Topic15   Topic16   Topic17  \\\n",
       "Cluster_lable                                                               \n",
       "0              0.000845  0.001410  0.003310  0.000769  0.066003  0.002822   \n",
       "1              0.001961  0.001159  0.005409  0.000866  0.002935  0.077173   \n",
       "2              0.000823  0.001861  0.002100  0.002018  0.004174  0.002309   \n",
       "3              0.085335  0.001789  0.013433  0.014007  0.000858  0.001204   \n",
       "4              0.000371  0.001233  0.003925  0.000567  0.005717  0.000549   \n",
       "5              0.003239  0.001467  0.006505  0.010417  0.001825  0.002239   \n",
       "6              0.010373  0.001076  0.009280  0.012575  0.001526  0.002108   \n",
       "7              0.000760  0.001175  0.003920  0.004257  0.010865  0.001825   \n",
       "8              0.000245  0.001189  0.004486  0.000396  0.004105  0.001308   \n",
       "9              0.005538  0.001142  0.012796  0.007931  0.001155  0.001126   \n",
       "10             0.000735  0.001351  0.004649  0.000535  0.003939  0.003065   \n",
       "11             0.004837  0.002021  0.003955  0.024575  0.001680  0.004120   \n",
       "12             0.003269  0.002743  0.010359  0.005957  0.001105  0.000774   \n",
       "13             0.000402  0.000734  0.001570  0.000314  0.008148  0.003229   \n",
       "14             0.000462  0.245989  0.002973  0.000223  0.002339  0.000786   \n",
       "15             0.003455  0.001442  0.055277  0.010396  0.001448  0.002600   \n",
       "16             0.000950  0.001670  0.004037  0.002389  0.005435  0.012475   \n",
       "17             0.002000  0.004372  0.017912  0.005226  0.001783  0.002023   \n",
       "18             0.000996  0.001078  0.003945  0.001021  0.001319  0.000970   \n",
       "19             0.000706  0.001690  0.002945  0.000502  0.007196  0.001561   \n",
       "\n",
       "                Topic18   Topic19  \n",
       "Cluster_lable                      \n",
       "0              0.006306  0.001037  \n",
       "1              0.004192  0.001210  \n",
       "2              0.006439  0.001288  \n",
       "3              0.004491  0.027107  \n",
       "4              0.008600  0.000893  \n",
       "5              0.026556  0.014498  \n",
       "6              0.004247  0.005015  \n",
       "7              0.007686  0.001740  \n",
       "8              0.003165  0.000800  \n",
       "9              0.008155  0.006041  \n",
       "10             0.004234  0.000859  \n",
       "11             0.007239  0.011164  \n",
       "12             0.013940  0.013189  \n",
       "13             0.003909  0.000496  \n",
       "14             0.002036  0.000925  \n",
       "15             0.009244  0.005288  \n",
       "16             0.009841  0.001608  \n",
       "17             0.011353  0.004313  \n",
       "18             0.001606  0.000997  \n",
       "19             0.003649  0.000948  "
      ]
     },
     "execution_count": 161,
     "metadata": {},
     "output_type": "execute_result"
    }
   ],
   "source": [
    "df_mean"
   ]
  },
  {
   "cell_type": "code",
   "execution_count": 162,
   "metadata": {},
   "outputs": [],
   "source": [
    "df_cluster_topic=pd.Series(zip(df_mean.idxmax(axis=1),df_mean.max(axis=1)/df_mean.sum(axis=1)))"
   ]
  },
  {
   "cell_type": "code",
   "execution_count": 163,
   "metadata": {},
   "outputs": [
    {
     "data": {
      "text/plain": [
       "0      (Topic16, 0.5333898483204822)\n",
       "1      (Topic17, 0.5778117690232055)\n",
       "2     (Topic18, 0.14211048089085163)\n",
       "3      (Topic12, 0.4199896723721484)\n",
       "4        (Topic0, 0.289032976794264)\n",
       "5     (Topic18, 0.22434240835356833)\n",
       "6      (Topic3, 0.48845871312337347)\n",
       "7       (Topic6, 0.6019481503693819)\n",
       "8        (Topic4, 0.567864289611895)\n",
       "9     (Topic10, 0.44897773169378496)\n",
       "10      (Topic2, 0.4643879016746814)\n",
       "11       (Topic9, 0.323133284201576)\n",
       "12     (Topic7, 0.48186616961112616)\n",
       "13     (Topic11, 0.7499213548831913)\n",
       "14     (Topic13, 0.9096627278952304)\n",
       "15     (Topic14, 0.4268529307868913)\n",
       "16     (Topic0, 0.20715168073135912)\n",
       "17      (Topic5, 0.4748226315472684)\n",
       "18      (Topic2, 0.7079990666462204)\n",
       "19      (Topic8, 0.6071781258204209)\n",
       "dtype: object"
      ]
     },
     "execution_count": 163,
     "metadata": {},
     "output_type": "execute_result"
    }
   ],
   "source": [
    "df_cluster_topic"
   ]
  },
  {
   "cell_type": "code",
   "execution_count": 242,
   "metadata": {},
   "outputs": [],
   "source": [
    "def order(row):\n",
    "    row=row.sort_values(ascending=False)/row.sum()\n",
    "    return pd.Series([ (i,round(row[i]*100,2)) for i in row.index[:3]])\n",
    "\n",
    "df_ratio_cluster=df_mean.apply(order,axis=1)"
   ]
  },
  {
   "cell_type": "code",
   "execution_count": 288,
   "metadata": {},
   "outputs": [
    {
     "data": {
      "text/html": [
       "<div>\n",
       "<style scoped>\n",
       "    .dataframe tbody tr th:only-of-type {\n",
       "        vertical-align: middle;\n",
       "    }\n",
       "\n",
       "    .dataframe tbody tr th {\n",
       "        vertical-align: top;\n",
       "    }\n",
       "\n",
       "    .dataframe thead th {\n",
       "        text-align: right;\n",
       "    }\n",
       "</style>\n",
       "<table border=\"1\" class=\"dataframe\">\n",
       "  <thead>\n",
       "    <tr style=\"text-align: right;\">\n",
       "      <th></th>\n",
       "      <th>0</th>\n",
       "      <th>1</th>\n",
       "      <th>2</th>\n",
       "    </tr>\n",
       "    <tr>\n",
       "      <th>Cluster_lable</th>\n",
       "      <th></th>\n",
       "      <th></th>\n",
       "      <th></th>\n",
       "    </tr>\n",
       "  </thead>\n",
       "  <tbody>\n",
       "    <tr>\n",
       "      <td>0</td>\n",
       "      <td>(Topic16, 53.34)</td>\n",
       "      <td>(Topic0, 11.77)</td>\n",
       "      <td>(Topic18, 5.1)</td>\n",
       "    </tr>\n",
       "    <tr>\n",
       "      <td>1</td>\n",
       "      <td>(Topic17, 57.78)</td>\n",
       "      <td>(Topic9, 7.07)</td>\n",
       "      <td>(Topic0, 4.21)</td>\n",
       "    </tr>\n",
       "    <tr>\n",
       "      <td>2</td>\n",
       "      <td>(Topic18, 14.21)</td>\n",
       "      <td>(Topic0, 11.13)</td>\n",
       "      <td>(Topic16, 9.21)</td>\n",
       "    </tr>\n",
       "    <tr>\n",
       "      <td>3</td>\n",
       "      <td>(Topic12, 42.0)</td>\n",
       "      <td>(Topic19, 13.34)</td>\n",
       "      <td>(Topic15, 6.89)</td>\n",
       "    </tr>\n",
       "    <tr>\n",
       "      <td>4</td>\n",
       "      <td>(Topic0, 28.9)</td>\n",
       "      <td>(Topic4, 16.87)</td>\n",
       "      <td>(Topic18, 10.15)</td>\n",
       "    </tr>\n",
       "    <tr>\n",
       "      <td>5</td>\n",
       "      <td>(Topic18, 22.43)</td>\n",
       "      <td>(Topic1, 13.27)</td>\n",
       "      <td>(Topic19, 12.25)</td>\n",
       "    </tr>\n",
       "    <tr>\n",
       "      <td>6</td>\n",
       "      <td>(Topic3, 48.85)</td>\n",
       "      <td>(Topic15, 6.83)</td>\n",
       "      <td>(Topic1, 6.64)</td>\n",
       "    </tr>\n",
       "    <tr>\n",
       "      <td>7</td>\n",
       "      <td>(Topic6, 60.19)</td>\n",
       "      <td>(Topic16, 6.91)</td>\n",
       "      <td>(Topic0, 5.81)</td>\n",
       "    </tr>\n",
       "    <tr>\n",
       "      <td>8</td>\n",
       "      <td>(Topic4, 56.79)</td>\n",
       "      <td>(Topic0, 13.4)</td>\n",
       "      <td>(Topic14, 4.37)</td>\n",
       "    </tr>\n",
       "    <tr>\n",
       "      <td>9</td>\n",
       "      <td>(Topic10, 44.9)</td>\n",
       "      <td>(Topic1, 7.84)</td>\n",
       "      <td>(Topic14, 7.73)</td>\n",
       "    </tr>\n",
       "    <tr>\n",
       "      <td>10</td>\n",
       "      <td>(Topic2, 46.44)</td>\n",
       "      <td>(Topic0, 11.64)</td>\n",
       "      <td>(Topic14, 5.2)</td>\n",
       "    </tr>\n",
       "    <tr>\n",
       "      <td>11</td>\n",
       "      <td>(Topic9, 32.31)</td>\n",
       "      <td>(Topic15, 17.45)</td>\n",
       "      <td>(Topic5, 8.57)</td>\n",
       "    </tr>\n",
       "    <tr>\n",
       "      <td>12</td>\n",
       "      <td>(Topic7, 48.19)</td>\n",
       "      <td>(Topic18, 7.38)</td>\n",
       "      <td>(Topic10, 7.31)</td>\n",
       "    </tr>\n",
       "    <tr>\n",
       "      <td>13</td>\n",
       "      <td>(Topic11, 74.99)</td>\n",
       "      <td>(Topic16, 4.72)</td>\n",
       "      <td>(Topic0, 3.98)</td>\n",
       "    </tr>\n",
       "    <tr>\n",
       "      <td>14</td>\n",
       "      <td>(Topic13, 90.97)</td>\n",
       "      <td>(Topic0, 2.18)</td>\n",
       "      <td>(Topic1, 1.16)</td>\n",
       "    </tr>\n",
       "    <tr>\n",
       "      <td>15</td>\n",
       "      <td>(Topic14, 42.69)</td>\n",
       "      <td>(Topic5, 8.09)</td>\n",
       "      <td>(Topic15, 8.03)</td>\n",
       "    </tr>\n",
       "    <tr>\n",
       "      <td>16</td>\n",
       "      <td>(Topic0, 20.72)</td>\n",
       "      <td>(Topic17, 14.98)</td>\n",
       "      <td>(Topic18, 11.82)</td>\n",
       "    </tr>\n",
       "    <tr>\n",
       "      <td>17</td>\n",
       "      <td>(Topic5, 47.48)</td>\n",
       "      <td>(Topic14, 11.82)</td>\n",
       "      <td>(Topic18, 7.49)</td>\n",
       "    </tr>\n",
       "    <tr>\n",
       "      <td>18</td>\n",
       "      <td>(Topic2, 70.8)</td>\n",
       "      <td>(Topic0, 5.61)</td>\n",
       "      <td>(Topic9, 3.58)</td>\n",
       "    </tr>\n",
       "    <tr>\n",
       "      <td>19</td>\n",
       "      <td>(Topic8, 60.72)</td>\n",
       "      <td>(Topic0, 6.82)</td>\n",
       "      <td>(Topic11, 5.97)</td>\n",
       "    </tr>\n",
       "  </tbody>\n",
       "</table>\n",
       "</div>"
      ],
      "text/plain": [
       "                              0                 1                 2\n",
       "Cluster_lable                                                      \n",
       "0              (Topic16, 53.34)   (Topic0, 11.77)    (Topic18, 5.1)\n",
       "1              (Topic17, 57.78)    (Topic9, 7.07)    (Topic0, 4.21)\n",
       "2              (Topic18, 14.21)   (Topic0, 11.13)   (Topic16, 9.21)\n",
       "3               (Topic12, 42.0)  (Topic19, 13.34)   (Topic15, 6.89)\n",
       "4                (Topic0, 28.9)   (Topic4, 16.87)  (Topic18, 10.15)\n",
       "5              (Topic18, 22.43)   (Topic1, 13.27)  (Topic19, 12.25)\n",
       "6               (Topic3, 48.85)   (Topic15, 6.83)    (Topic1, 6.64)\n",
       "7               (Topic6, 60.19)   (Topic16, 6.91)    (Topic0, 5.81)\n",
       "8               (Topic4, 56.79)    (Topic0, 13.4)   (Topic14, 4.37)\n",
       "9               (Topic10, 44.9)    (Topic1, 7.84)   (Topic14, 7.73)\n",
       "10              (Topic2, 46.44)   (Topic0, 11.64)    (Topic14, 5.2)\n",
       "11              (Topic9, 32.31)  (Topic15, 17.45)    (Topic5, 8.57)\n",
       "12              (Topic7, 48.19)   (Topic18, 7.38)   (Topic10, 7.31)\n",
       "13             (Topic11, 74.99)   (Topic16, 4.72)    (Topic0, 3.98)\n",
       "14             (Topic13, 90.97)    (Topic0, 2.18)    (Topic1, 1.16)\n",
       "15             (Topic14, 42.69)    (Topic5, 8.09)   (Topic15, 8.03)\n",
       "16              (Topic0, 20.72)  (Topic17, 14.98)  (Topic18, 11.82)\n",
       "17              (Topic5, 47.48)  (Topic14, 11.82)   (Topic18, 7.49)\n",
       "18               (Topic2, 70.8)    (Topic0, 5.61)    (Topic9, 3.58)\n",
       "19              (Topic8, 60.72)    (Topic0, 6.82)   (Topic11, 5.97)"
      ]
     },
     "execution_count": 288,
     "metadata": {},
     "output_type": "execute_result"
    }
   ],
   "source": [
    "df_ratio_cluster"
   ]
  },
  {
   "cell_type": "code",
   "execution_count": 236,
   "metadata": {},
   "outputs": [],
   "source": [
    "def order1(row):\n",
    "    return pd.Series([ row[i][1] for i in row.index])\n",
    "\n",
    "df_ratio_sum=df_ratio_cluster.apply(order1,axis=1)"
   ]
  },
  {
   "cell_type": "code",
   "execution_count": 239,
   "metadata": {
    "scrolled": true
   },
   "outputs": [
    {
     "data": {
      "text/plain": [
       "Cluster_lable\n",
       "0     1.00\n",
       "1     1.00\n",
       "2     1.01\n",
       "3     1.00\n",
       "4     1.00\n",
       "5     0.99\n",
       "6     1.02\n",
       "7     1.00\n",
       "8     0.99\n",
       "9     1.00\n",
       "10    1.00\n",
       "11    0.98\n",
       "12    0.99\n",
       "13    0.98\n",
       "14    0.97\n",
       "15    1.01\n",
       "16    1.00\n",
       "17    0.99\n",
       "18    1.02\n",
       "19    1.00\n",
       "dtype: float64"
      ]
     },
     "execution_count": 239,
     "metadata": {},
     "output_type": "execute_result"
    }
   ],
   "source": [
    "df_ratio_sum.sum(axis=1)"
   ]
  },
  {
   "cell_type": "code",
   "execution_count": 302,
   "metadata": {},
   "outputs": [
    {
     "data": {
      "text/html": [
       "<div>\n",
       "<style scoped>\n",
       "    .dataframe tbody tr th:only-of-type {\n",
       "        vertical-align: middle;\n",
       "    }\n",
       "\n",
       "    .dataframe tbody tr th {\n",
       "        vertical-align: top;\n",
       "    }\n",
       "\n",
       "    .dataframe thead th {\n",
       "        text-align: right;\n",
       "    }\n",
       "</style>\n",
       "<table border=\"1\" class=\"dataframe\">\n",
       "  <thead>\n",
       "    <tr style=\"text-align: right;\">\n",
       "      <th></th>\n",
       "      <th>0</th>\n",
       "      <th>1</th>\n",
       "      <th>2</th>\n",
       "      <th>3</th>\n",
       "      <th>4</th>\n",
       "      <th>5</th>\n",
       "      <th>6</th>\n",
       "      <th>7</th>\n",
       "      <th>8</th>\n",
       "      <th>9</th>\n",
       "      <th>...</th>\n",
       "      <th>725</th>\n",
       "      <th>726</th>\n",
       "      <th>727</th>\n",
       "      <th>728</th>\n",
       "      <th>729</th>\n",
       "      <th>730</th>\n",
       "      <th>731</th>\n",
       "      <th>732</th>\n",
       "      <th>733</th>\n",
       "      <th>734</th>\n",
       "    </tr>\n",
       "  </thead>\n",
       "  <tbody>\n",
       "    <tr>\n",
       "      <td>0</td>\n",
       "      <td>49</td>\n",
       "      <td>72</td>\n",
       "      <td>83</td>\n",
       "      <td>109</td>\n",
       "      <td>129</td>\n",
       "      <td>138</td>\n",
       "      <td>173</td>\n",
       "      <td>174</td>\n",
       "      <td>180</td>\n",
       "      <td>190</td>\n",
       "      <td>...</td>\n",
       "      <td>18544</td>\n",
       "      <td>18550</td>\n",
       "      <td>18555</td>\n",
       "      <td>18612</td>\n",
       "      <td>18626</td>\n",
       "      <td>18629</td>\n",
       "      <td>18648</td>\n",
       "      <td>18724</td>\n",
       "      <td>18736</td>\n",
       "      <td>18763</td>\n",
       "    </tr>\n",
       "  </tbody>\n",
       "</table>\n",
       "<p>1 rows × 735 columns</p>\n",
       "</div>"
      ],
      "text/plain": [
       "   0    1    2    3    4    5    6    7    8    9    ...    725    726    727  \\\n",
       "0   49   72   83  109  129  138  173  174  180  190  ...  18544  18550  18555   \n",
       "\n",
       "     728    729    730    731    732    733    734  \n",
       "0  18612  18626  18629  18648  18724  18736  18763  \n",
       "\n",
       "[1 rows x 735 columns]"
      ]
     },
     "execution_count": 302,
     "metadata": {},
     "output_type": "execute_result"
    }
   ],
   "source": [
    "test1=np.where(trans_data.Cluster_lable== 12)\n",
    "pd.DataFrame(test1)"
   ]
  },
  {
   "cell_type": "code",
   "execution_count": 303,
   "metadata": {},
   "outputs": [
    {
     "data": {
      "text/plain": [
       "Topic0            0.112647\n",
       "Topic1            0.180891\n",
       "Topic2           -0.043639\n",
       "Topic3           -0.124107\n",
       "Topic4            0.001962\n",
       "Topic5           -0.130789\n",
       "Topic6            0.037484\n",
       "Topic7            0.090247\n",
       "Topic8           -0.004734\n",
       "Topic9           -0.033414\n",
       "Topic10          -0.013869\n",
       "Topic11          -0.084712\n",
       "Topic12           0.150639\n",
       "Topic13          -0.031853\n",
       "Topic14          -0.009009\n",
       "Topic15          -0.028197\n",
       "Topic16          -0.037050\n",
       "Topic17           0.006541\n",
       "Topic18           0.026056\n",
       "Topic19           0.079050\n",
       "Cluster_lable    12.000000\n",
       "Name: 49, dtype: float64"
      ]
     },
     "execution_count": 303,
     "metadata": {},
     "output_type": "execute_result"
    }
   ],
   "source": [
    "trans_data.iloc[49]"
   ]
  },
  {
   "cell_type": "code",
   "execution_count": 304,
   "metadata": {},
   "outputs": [
    {
     "data": {
      "text/plain": [
       "'i am looking for the exact address of the symantec coporatoin  which \\ndistributes norton desktop and other windows software \\n\\nthe information i am looking for is \\n\\nmail address\\nphone number\\nfax number\\ne mail address\\n\\nthanks in advance \\n'"
      ]
     },
     "execution_count": 304,
     "metadata": {},
     "output_type": "execute_result"
    }
   ],
   "source": [
    "documents[49]"
   ]
  },
  {
   "cell_type": "code",
   "execution_count": 306,
   "metadata": {},
   "outputs": [
    {
     "data": {
      "text/plain": [
       "'i am look for the exact address of the symantec coporatoin which distribut norton desktop and other window softwar the inform i am look for is mail address phone number fax number e mail address thank in advanc'"
      ]
     },
     "execution_count": 306,
     "metadata": {},
     "output_type": "execute_result"
    }
   ],
   "source": [
    "final_cleans[49]"
   ]
  },
  {
   "cell_type": "code",
   "execution_count": 295,
   "metadata": {},
   "outputs": [],
   "source": [
    "# df_mean_L1=df_mean/df_mean.sum(axis=1).values.reshape(-1,1)\n",
    "# df_mean_L1"
   ]
  },
  {
   "cell_type": "markdown",
   "metadata": {},
   "source": [
    "### Convert into Classification Problems "
   ]
  },
  {
   "cell_type": "code",
   "execution_count": 70,
   "metadata": {},
   "outputs": [
    {
     "data": {
      "text/plain": [
       "array([ 4, 14, 17, ..., 11, 13, 15], dtype=int32)"
      ]
     },
     "execution_count": 70,
     "metadata": {},
     "output_type": "execute_result"
    }
   ],
   "source": [
    "cluster_model.labels_"
   ]
  },
  {
   "cell_type": "code",
   "execution_count": 71,
   "metadata": {},
   "outputs": [
    {
     "data": {
      "text/plain": [
       "11    4781\n",
       "13    2024\n",
       "3     1896\n",
       "16    1606\n",
       "1      951\n",
       "18     924\n",
       "9      906\n",
       "5      745\n",
       "12     735\n",
       "7      592\n",
       "2      505\n",
       "15     474\n",
       "8      452\n",
       "4      451\n",
       "14     430\n",
       "6      426\n",
       "0      369\n",
       "10     343\n",
       "17     163\n",
       "19      73\n",
       "dtype: int64"
      ]
     },
     "execution_count": 71,
     "metadata": {},
     "output_type": "execute_result"
    }
   ],
   "source": [
    "pd.Series(cluster_model.labels_).value_counts()"
   ]
  },
  {
   "cell_type": "code",
   "execution_count": 72,
   "metadata": {},
   "outputs": [
    {
     "data": {
      "text/html": [
       "<div>\n",
       "<style scoped>\n",
       "    .dataframe tbody tr th:only-of-type {\n",
       "        vertical-align: middle;\n",
       "    }\n",
       "\n",
       "    .dataframe tbody tr th {\n",
       "        vertical-align: top;\n",
       "    }\n",
       "\n",
       "    .dataframe thead th {\n",
       "        text-align: right;\n",
       "    }\n",
       "</style>\n",
       "<table border=\"1\" class=\"dataframe\">\n",
       "  <thead>\n",
       "    <tr style=\"text-align: right;\">\n",
       "      <th></th>\n",
       "    </tr>\n",
       "  </thead>\n",
       "  <tbody>\n",
       "  </tbody>\n",
       "</table>\n",
       "</div>"
      ],
      "text/plain": [
       "Empty DataFrame\n",
       "Columns: []\n",
       "Index: []"
      ]
     },
     "execution_count": 72,
     "metadata": {},
     "output_type": "execute_result"
    }
   ],
   "source": [
    "pd.DataFrame()"
   ]
  },
  {
   "cell_type": "code",
   "execution_count": 73,
   "metadata": {},
   "outputs": [
    {
     "data": {
      "text/plain": [
       "(18846,)"
      ]
     },
     "execution_count": 73,
     "metadata": {},
     "output_type": "execute_result"
    }
   ],
   "source": [
    "(cluster_model.labels_==12).shape"
   ]
  },
  {
   "cell_type": "code",
   "execution_count": 74,
   "metadata": {},
   "outputs": [
    {
     "data": {
      "text/plain": [
       "[4, 0, 0, 0, 2, 0, 3, 0, 0, 0, 0, 0, 5, 0, 1, 0, 0, 8, 0, 13]"
      ]
     },
     "execution_count": 74,
     "metadata": {},
     "output_type": "execute_result"
    }
   ],
   "source": [
    "[cluster_model.cluster_centers_[i].argmax() for i in range(20)]"
   ]
  },
  {
   "cell_type": "code",
   "execution_count": 75,
   "metadata": {},
   "outputs": [
    {
     "data": {
      "text/plain": [
       "['sci.crypt',\n",
       " 'talk.politics.guns',\n",
       " 'comp.os.ms-windows.misc',\n",
       " 'rec.motorcycles',\n",
       " 'rec.sport.hockey',\n",
       " 'comp.sys.mac.hardware',\n",
       " 'comp.sys.ibm.pc.hardware',\n",
       " 'soc.religion.christian',\n",
       " 'comp.graphics',\n",
       " 'rec.sport.baseball',\n",
       " 'talk.politics.mideast',\n",
       " 'sci.med',\n",
       " 'comp.graphics',\n",
       " 'comp.windows.x',\n",
       " 'comp.sys.ibm.pc.hardware',\n",
       " 'rec.autos',\n",
       " 'soc.religion.christian',\n",
       " 'talk.politics.mideast',\n",
       " 'misc.forsale',\n",
       " 'sci.med']"
      ]
     },
     "execution_count": 75,
     "metadata": {},
     "output_type": "execute_result"
    }
   ],
   "source": [
    "[categories[pd.Series(target[ cluster_model.labels_==i]).value_counts().index[0]] for i in range (20)]"
   ]
  },
  {
   "cell_type": "code",
   "execution_count": 76,
   "metadata": {},
   "outputs": [
    {
     "data": {
      "text/plain": [
       "3     197\n",
       "4     106\n",
       "6      60\n",
       "2      25\n",
       "8      19\n",
       "12     13\n",
       "7       3\n",
       "18      2\n",
       "5       1\n",
       "dtype: int64"
      ]
     },
     "execution_count": 76,
     "metadata": {},
     "output_type": "execute_result"
    }
   ],
   "source": [
    "pd.Series(target[ cluster_model.labels_==6]).value_counts()\n",
    "\n",
    "\n",
    "#the cluster number 17,16..etc have this number of category 6 "
   ]
  },
  {
   "cell_type": "code",
   "execution_count": 77,
   "metadata": {
    "scrolled": true
   },
   "outputs": [
    {
     "data": {
      "text/plain": [
       "[('sci.crypt', 0.9159891598915989),\n",
       " ('talk.politics.guns', 0.5152471083070452),\n",
       " ('comp.os.ms-windows.misc', 0.5227722772277228),\n",
       " ('rec.motorcycles', 0.2779535864978903),\n",
       " ('rec.sport.hockey', 0.6097560975609756),\n",
       " ('comp.sys.mac.hardware', 0.14496644295302014),\n",
       " ('comp.sys.ibm.pc.hardware', 0.4624413145539906),\n",
       " ('soc.religion.christian', 0.6097972972972973),\n",
       " ('comp.graphics', 0.38495575221238937),\n",
       " ('rec.sport.baseball', 0.45805739514348787),\n",
       " ('talk.politics.mideast', 0.9591836734693877),\n",
       " ('sci.med', 0.07969044133026564),\n",
       " ('comp.graphics', 0.12789115646258503),\n",
       " ('comp.windows.x', 0.18972332015810275),\n",
       " ('comp.sys.ibm.pc.hardware', 0.3813953488372093),\n",
       " ('rec.autos', 0.7974683544303798),\n",
       " ('soc.religion.christian', 0.24470734744707348),\n",
       " ('talk.politics.mideast', 1.0),\n",
       " ('misc.forsale', 0.5443722943722944),\n",
       " ('sci.med', 0.9863013698630136)]"
      ]
     },
     "execution_count": 77,
     "metadata": {},
     "output_type": "execute_result"
    }
   ],
   "source": [
    "clusters=[]\n",
    "for i in range(20):\n",
    "    freq_series=pd.Series(target[ cluster_model.labels_==i]).value_counts()\n",
    "    cat_ind=freq_series.index[0]\n",
    "    frac=freq_series[cat_ind]/freq_series.sum()\n",
    "    #print(cat_ind)\n",
    "    clusters.append((categories[cat_ind],frac))\n",
    "    \n",
    "clusters"
   ]
  },
  {
   "cell_type": "code",
   "execution_count": 86,
   "metadata": {},
   "outputs": [
    {
     "data": {
      "text/plain": [
       "15    393\n",
       "0     345\n",
       "19    207\n",
       "18    184\n",
       "13    122\n",
       "17    113\n",
       "11     52\n",
       "16     43\n",
       "14     33\n",
       "9      22\n",
       "1      19\n",
       "7      13\n",
       "10     12\n",
       "2      11\n",
       "8      11\n",
       "12      6\n",
       "6       6\n",
       "5       6\n",
       "3       5\n",
       "4       3\n",
       "dtype: int64"
      ]
     },
     "execution_count": 86,
     "metadata": {},
     "output_type": "execute_result"
    }
   ],
   "source": [
    "pd.Series(target[ cluster_model.labels_==16]).value_counts()"
   ]
  },
  {
   "cell_type": "code",
   "execution_count": 87,
   "metadata": {},
   "outputs": [
    {
     "name": "stdout",
     "output_type": "stream",
     "text": [
      "15    393\n",
      "0     345\n",
      "19    207\n",
      "18    184\n",
      "13    122\n",
      "17    113\n",
      "11     52\n",
      "16     43\n",
      "14     33\n",
      "9      22\n",
      "1      19\n",
      "7      13\n",
      "10     12\n",
      "2      11\n",
      "8      11\n",
      "12      6\n",
      "6       6\n",
      "5       6\n",
      "3       5\n",
      "4       3\n",
      "dtype: int64\n",
      "cat_ind 15\n",
      "1606\n",
      "0.24470734744707348\n"
     ]
    },
    {
     "data": {
      "text/plain": [
       "[('soc.religion.christian', 0.24470734744707348)]"
      ]
     },
     "execution_count": 87,
     "metadata": {},
     "output_type": "execute_result"
    }
   ],
   "source": [
    "clusters=[]\n",
    "\n",
    "freq_series=pd.Series(target[ cluster_model.labels_==16]).value_counts()\n",
    "print(freq_series)\n",
    "cat_ind=freq_series.index[0]\n",
    "print(\"cat_ind\",cat_ind)\n",
    "print(freq_series.sum())\n",
    "frac=freq_series[cat_ind]/freq_series.sum()\n",
    "print(frac)\n",
    "#print(cat_ind)\n",
    "clusters.append((categories[cat_ind],frac))\n",
    "    \n",
    "clusters"
   ]
  },
  {
   "cell_type": "code",
   "execution_count": 88,
   "metadata": {},
   "outputs": [
    {
     "data": {
      "text/plain": [
       "'rec.sport.hockey'"
      ]
     },
     "execution_count": 88,
     "metadata": {},
     "output_type": "execute_result"
    }
   ],
   "source": [
    "categories[10]"
   ]
  },
  {
   "cell_type": "code",
   "execution_count": null,
   "metadata": {},
   "outputs": [],
   "source": []
  },
  {
   "cell_type": "code",
   "execution_count": null,
   "metadata": {},
   "outputs": [],
   "source": []
  }
 ],
 "metadata": {
  "kernelspec": {
   "display_name": "Python [conda env:metis] *",
   "language": "python",
   "name": "conda-env-metis-py"
  },
  "language_info": {
   "codemirror_mode": {
    "name": "ipython",
    "version": 3
   },
   "file_extension": ".py",
   "mimetype": "text/x-python",
   "name": "python",
   "nbconvert_exporter": "python",
   "pygments_lexer": "ipython3",
   "version": "3.7.4"
  }
 },
 "nbformat": 4,
 "nbformat_minor": 2
}
